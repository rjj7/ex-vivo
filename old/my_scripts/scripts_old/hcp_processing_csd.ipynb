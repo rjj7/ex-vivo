{
 "cells": [
  {
   "cell_type": "markdown",
   "metadata": {},
   "source": [
    "### Import Modules"
   ]
  },
  {
   "cell_type": "code",
   "execution_count": null,
   "metadata": {
    "collapsed": false
   },
   "outputs": [],
   "source": [
    "import glob\n",
    "import numpy as np\n",
    "import nibabel as nib\n",
    "import matplotlib.pyplot as plt\n",
    "import os\n",
    "from nibabel.streamlines import save as save_trk\n",
    "from nibabel.streamlines import Tractogram\n",
    "from os import path\n",
    "from dipy.tracking.local import ParticleFilteringTracking\n",
    "from dipy.core.gradients import gradient_table\n",
    "from dipy.data import get_sphere, Sphere, HemiSphere\n",
    "from dipy.direction import (peaks_from_model, ProbabilisticDirectionGetter)\n",
    "from dipy.io import read_bvals_bvecs\n",
    "from dipy.io.image import save_nifti\n",
    "from dipy.io.streamline import save_trk, load_trk\n",
    "from dipy.reconst.peaks import reshape_peaks_for_visualization\n",
    "from dipy.reconst.dti import TensorModel, fractional_anisotropy, mean_diffusivity\n",
    "from dipy.reconst.csdeconv import (ConstrainedSphericalDeconvModel,auto_response, recursive_response)\n",
    "from dipy.reconst.shm import sh_to_sf\n",
    "from dipy.segment.mask import median_otsu\n",
    "from dipy.tracking.local import (LocalTracking, ThresholdTissueClassifier, ActTissueClassifier, CmcTissueClassifier)\n",
    "from dipy.tracking.streamline import Streamlines\n",
    "from dipy.tracking.utils import random_seeds_from_mask, move_streamlines\n",
    "from dipy.viz import actor, window\n",
    "from dipy.tracking.utils import target, density_map"
   ]
  },
  {
   "cell_type": "code",
   "execution_count": null,
   "metadata": {
    "collapsed": false
   },
   "outputs": [],
   "source": [
    "os.chdir('/space/hemera/1/users/cmaffei/hcp_processing')\n",
    "wd = ('/space/hemera/1/users/cmaffei/hcp_processing')"
   ]
  },
  {
   "cell_type": "code",
   "execution_count": null,
   "metadata": {
    "collapsed": true
   },
   "outputs": [],
   "source": [
    "sphere = get_sphere('symmetric724')"
   ]
  },
  {
   "cell_type": "markdown",
   "metadata": {},
   "source": [
    "## CSD for b=1k"
   ]
  },
  {
   "cell_type": "code",
   "execution_count": null,
   "metadata": {
    "collapsed": true
   },
   "outputs": [],
   "source": [
    "for sub in sorted(glob.glob(os.path.join(wd, 'mgh_*'))):\n",
    "    print('Loading data for'+str(sub)) #loading data\n",
    "    img = nib.load(os.path.join(sub,'1k/data_corr.nii.gz'))\n",
    "    data = img.get_data()\n",
    "    bvals, bvecs = read_bvals_bvecs(os.path.join(sub, '1k/bvals'), os.path.join(sub, '1k/bvecs'))\n",
    "    gtab = gradient_table(bvals, bvecs)\n",
    "    mask = nib.load(os.path.join(sub, 'mask_er.nii.gz')).get_data()\n",
    "    #recursive estimation\n",
    "    print('Starting recursive estimation for'+str(sub))\n",
    "    tenmodel = TensorModel(gtab)\n",
    "    tenfit = tenmodel.fit(data, mask)\n",
    "    FA = fractional_anisotropy(tenfit.evals)\n",
    "    MD = mean_diffusivity(tenfit.evals)\n",
    "    wm_mask = (np.logical_or(FA >= 0.4, (np.logical_and(FA >= 0.3, MD >= 0.0011))))\n",
    "    response = recursive_response(gtab, data, mask=wm_mask, sh_order=8,\n",
    "                                  peak_thr=0.01, init_fa=0.08,\n",
    "                              init_trace=0.0021, iter=8, convergence=0.001, parallel=True, nbr_processes=4)\n",
    "    #check the shape of the RF,and take pic:\n",
    "    response_signal = response.on_sphere(sphere)\n",
    "    response_signal = response_signal[None, None, None, :]\n",
    "    response_actor = actor.odf_slicer(\n",
    "    response_signal, sphere=sphere, colormap='plasma')\n",
    "    interactive = False\n",
    "    ren = window.Renderer()\n",
    "    ren.add(response_actor)\n",
    "    print('Saving illustration for'+str(sub))\n",
    "    window.record(ren, out_path='1k/csd_recursive_response.png', size=(200, 200))\n",
    "    if interactive:\n",
    "        window.show(ren)\n",
    "    print('Computing FODFs for'+str(sub))\n",
    "    csd_model = ConstrainedSphericalDeconvModel(gtab, response, sh_order=8)\n",
    "    csd_peaks = peaks_from_model(model=csd_model,\n",
    "                             data=data,\n",
    "                             sphere=sphere,\n",
    "                             relative_peak_threshold=.5,\n",
    "                             sh_order=8,\n",
    "                             min_separation_angle=25,\n",
    "                             mask=mask, return_odf=True, return_sh=True)\n",
    "    print('Saving FODFs for'+str(sub))\n",
    "    nib.save(nib.Nifti1Image(csd_peaks.shm_coeff.astype(np.float32),\n",
    "                                  img.affine, img.header), os.path.join(sub, '1k/odfs_recursive_csd.nii.gz'))"
   ]
  },
  {
   "cell_type": "code",
   "execution_count": null,
   "metadata": {
    "collapsed": false
   },
   "outputs": [],
   "source": [
    "#checking ODFs\n",
    "interactive = True\n",
    "sphere = get_sphere('symmetric724')\n",
    "\n",
    "for sub in glob.glob(os.path.join(wd, 'mgh_*')):\n",
    "    print('Loading ODFs for'+str(sub))\n",
    "    #load files \n",
    "    img = nib.load(os.path.join(sub, 'odfs_recursive_csd.nii.gz'))\n",
    "    data = img.get_data()\n",
    "    data=sh_to_sf(data, sphere, sh_order=6)\n",
    "    ren = window.Renderer()\n",
    "    fodf_spheres = actor.odf_slicer(data, sphere=sphere, scale=0.9, norm=False, colormap='plasma')\n",
    "    ren.add(fodf_spheres)\n",
    "    print('Saving illustration as csd_odfs.png')\n",
    "    window.record(ren, out_path=os.path.join(sub,'1k/csd_fodfs.png'), size=(600, 600))\n",
    "    if interactive:\n",
    "        window.show(ren)"
   ]
  },
  {
   "cell_type": "markdown",
   "metadata": {},
   "source": [
    "## CSD for b=10k"
   ]
  },
  {
   "cell_type": "markdown",
   "metadata": {},
   "source": [
    "### Obtain Response function"
   ]
  },
  {
   "cell_type": "code",
   "execution_count": null,
   "metadata": {
    "collapsed": false
   },
   "outputs": [],
   "source": [
    "%%script tcsh\n",
    "mrtrixenv\n",
    "foreach sub (mgh_????)\n",
    "    set input =  $sub/wmparc2diff.nii.gz\n",
    "    set output = $sub/body_cc.nii.gz\n",
    "    mri_extract_label $input 253 254 $output\n",
    "end"
   ]
  },
  {
   "cell_type": "code",
   "execution_count": 4,
   "metadata": {
    "collapsed": false
   },
   "outputs": [
    {
     "name": "stdout",
     "output_type": "stream",
     "text": [
      "Loading data for/space/hemera/1/users/cmaffei/hcp_processing/mgh_1001\n",
      "Starting recursive estimation for/space/hemera/1/users/cmaffei/hcp_processing/mgh_1001\n",
      "Computing FODFs for/space/hemera/1/users/cmaffei/hcp_processing/mgh_1001\n",
      "Saving FODFs for/space/hemera/1/users/cmaffei/hcp_processing/mgh_1001\n",
      "Loading data for/space/hemera/1/users/cmaffei/hcp_processing/mgh_1002\n",
      "Starting recursive estimation for/space/hemera/1/users/cmaffei/hcp_processing/mgh_1002\n",
      "Computing FODFs for/space/hemera/1/users/cmaffei/hcp_processing/mgh_1002\n",
      "Saving FODFs for/space/hemera/1/users/cmaffei/hcp_processing/mgh_1002\n",
      "Loading data for/space/hemera/1/users/cmaffei/hcp_processing/mgh_1003\n",
      "Starting recursive estimation for/space/hemera/1/users/cmaffei/hcp_processing/mgh_1003\n",
      "Computing FODFs for/space/hemera/1/users/cmaffei/hcp_processing/mgh_1003\n",
      "Saving FODFs for/space/hemera/1/users/cmaffei/hcp_processing/mgh_1003\n",
      "Loading data for/space/hemera/1/users/cmaffei/hcp_processing/mgh_1004\n",
      "Starting recursive estimation for/space/hemera/1/users/cmaffei/hcp_processing/mgh_1004\n",
      "Computing FODFs for/space/hemera/1/users/cmaffei/hcp_processing/mgh_1004\n",
      "Saving FODFs for/space/hemera/1/users/cmaffei/hcp_processing/mgh_1004\n",
      "Loading data for/space/hemera/1/users/cmaffei/hcp_processing/mgh_1005\n",
      "Starting recursive estimation for/space/hemera/1/users/cmaffei/hcp_processing/mgh_1005\n",
      "Computing FODFs for/space/hemera/1/users/cmaffei/hcp_processing/mgh_1005\n",
      "Saving FODFs for/space/hemera/1/users/cmaffei/hcp_processing/mgh_1005\n",
      "Loading data for/space/hemera/1/users/cmaffei/hcp_processing/mgh_1006\n",
      "Starting recursive estimation for/space/hemera/1/users/cmaffei/hcp_processing/mgh_1006\n",
      "Computing FODFs for/space/hemera/1/users/cmaffei/hcp_processing/mgh_1006\n",
      "Saving FODFs for/space/hemera/1/users/cmaffei/hcp_processing/mgh_1006\n",
      "Loading data for/space/hemera/1/users/cmaffei/hcp_processing/mgh_1007\n",
      "Starting recursive estimation for/space/hemera/1/users/cmaffei/hcp_processing/mgh_1007\n",
      "Computing FODFs for/space/hemera/1/users/cmaffei/hcp_processing/mgh_1007\n",
      "Saving FODFs for/space/hemera/1/users/cmaffei/hcp_processing/mgh_1007\n",
      "Loading data for/space/hemera/1/users/cmaffei/hcp_processing/mgh_1008\n",
      "Starting recursive estimation for/space/hemera/1/users/cmaffei/hcp_processing/mgh_1008\n",
      "Computing FODFs for/space/hemera/1/users/cmaffei/hcp_processing/mgh_1008\n",
      "Saving FODFs for/space/hemera/1/users/cmaffei/hcp_processing/mgh_1008\n",
      "Loading data for/space/hemera/1/users/cmaffei/hcp_processing/mgh_1009\n",
      "Starting recursive estimation for/space/hemera/1/users/cmaffei/hcp_processing/mgh_1009\n",
      "Computing FODFs for/space/hemera/1/users/cmaffei/hcp_processing/mgh_1009\n",
      "Saving FODFs for/space/hemera/1/users/cmaffei/hcp_processing/mgh_1009\n",
      "Loading data for/space/hemera/1/users/cmaffei/hcp_processing/mgh_1010\n",
      "Starting recursive estimation for/space/hemera/1/users/cmaffei/hcp_processing/mgh_1010\n",
      "Computing FODFs for/space/hemera/1/users/cmaffei/hcp_processing/mgh_1010\n",
      "Saving FODFs for/space/hemera/1/users/cmaffei/hcp_processing/mgh_1010\n",
      "Loading data for/space/hemera/1/users/cmaffei/hcp_processing/mgh_1011\n",
      "Starting recursive estimation for/space/hemera/1/users/cmaffei/hcp_processing/mgh_1011\n",
      "Computing FODFs for/space/hemera/1/users/cmaffei/hcp_processing/mgh_1011\n",
      "Saving FODFs for/space/hemera/1/users/cmaffei/hcp_processing/mgh_1011\n",
      "Loading data for/space/hemera/1/users/cmaffei/hcp_processing/mgh_1012\n",
      "Starting recursive estimation for/space/hemera/1/users/cmaffei/hcp_processing/mgh_1012\n",
      "Computing FODFs for/space/hemera/1/users/cmaffei/hcp_processing/mgh_1012\n",
      "Saving FODFs for/space/hemera/1/users/cmaffei/hcp_processing/mgh_1012\n",
      "Loading data for/space/hemera/1/users/cmaffei/hcp_processing/mgh_1013\n",
      "Starting recursive estimation for/space/hemera/1/users/cmaffei/hcp_processing/mgh_1013\n",
      "Computing FODFs for/space/hemera/1/users/cmaffei/hcp_processing/mgh_1013\n",
      "Saving FODFs for/space/hemera/1/users/cmaffei/hcp_processing/mgh_1013\n",
      "Loading data for/space/hemera/1/users/cmaffei/hcp_processing/mgh_1014\n",
      "Starting recursive estimation for/space/hemera/1/users/cmaffei/hcp_processing/mgh_1014\n",
      "Computing FODFs for/space/hemera/1/users/cmaffei/hcp_processing/mgh_1014\n",
      "Saving FODFs for/space/hemera/1/users/cmaffei/hcp_processing/mgh_1014\n",
      "Loading data for/space/hemera/1/users/cmaffei/hcp_processing/mgh_1015\n",
      "Starting recursive estimation for/space/hemera/1/users/cmaffei/hcp_processing/mgh_1015\n",
      "Computing FODFs for/space/hemera/1/users/cmaffei/hcp_processing/mgh_1015\n",
      "Saving FODFs for/space/hemera/1/users/cmaffei/hcp_processing/mgh_1015\n",
      "Loading data for/space/hemera/1/users/cmaffei/hcp_processing/mgh_1016\n",
      "Starting recursive estimation for/space/hemera/1/users/cmaffei/hcp_processing/mgh_1016\n",
      "Computing FODFs for/space/hemera/1/users/cmaffei/hcp_processing/mgh_1016\n",
      "Saving FODFs for/space/hemera/1/users/cmaffei/hcp_processing/mgh_1016\n",
      "Loading data for/space/hemera/1/users/cmaffei/hcp_processing/mgh_1017\n",
      "Starting recursive estimation for/space/hemera/1/users/cmaffei/hcp_processing/mgh_1017\n",
      "Computing FODFs for/space/hemera/1/users/cmaffei/hcp_processing/mgh_1017\n",
      "Saving FODFs for/space/hemera/1/users/cmaffei/hcp_processing/mgh_1017\n",
      "Loading data for/space/hemera/1/users/cmaffei/hcp_processing/mgh_1018\n",
      "Starting recursive estimation for/space/hemera/1/users/cmaffei/hcp_processing/mgh_1018\n",
      "Computing FODFs for/space/hemera/1/users/cmaffei/hcp_processing/mgh_1018\n",
      "Saving FODFs for/space/hemera/1/users/cmaffei/hcp_processing/mgh_1018\n",
      "Loading data for/space/hemera/1/users/cmaffei/hcp_processing/mgh_1019\n",
      "Starting recursive estimation for/space/hemera/1/users/cmaffei/hcp_processing/mgh_1019\n",
      "Computing FODFs for/space/hemera/1/users/cmaffei/hcp_processing/mgh_1019\n",
      "Saving FODFs for/space/hemera/1/users/cmaffei/hcp_processing/mgh_1019\n",
      "Loading data for/space/hemera/1/users/cmaffei/hcp_processing/mgh_1021\n",
      "Starting recursive estimation for/space/hemera/1/users/cmaffei/hcp_processing/mgh_1021\n",
      "Computing FODFs for/space/hemera/1/users/cmaffei/hcp_processing/mgh_1021\n",
      "Saving FODFs for/space/hemera/1/users/cmaffei/hcp_processing/mgh_1021\n",
      "Loading data for/space/hemera/1/users/cmaffei/hcp_processing/mgh_1022\n",
      "Starting recursive estimation for/space/hemera/1/users/cmaffei/hcp_processing/mgh_1022\n",
      "Computing FODFs for/space/hemera/1/users/cmaffei/hcp_processing/mgh_1022\n",
      "Saving FODFs for/space/hemera/1/users/cmaffei/hcp_processing/mgh_1022\n",
      "Loading data for/space/hemera/1/users/cmaffei/hcp_processing/mgh_1023\n",
      "Starting recursive estimation for/space/hemera/1/users/cmaffei/hcp_processing/mgh_1023\n",
      "Computing FODFs for/space/hemera/1/users/cmaffei/hcp_processing/mgh_1023\n",
      "Saving FODFs for/space/hemera/1/users/cmaffei/hcp_processing/mgh_1023\n",
      "Loading data for/space/hemera/1/users/cmaffei/hcp_processing/mgh_1024\n",
      "Starting recursive estimation for/space/hemera/1/users/cmaffei/hcp_processing/mgh_1024\n",
      "Computing FODFs for/space/hemera/1/users/cmaffei/hcp_processing/mgh_1024\n",
      "Saving FODFs for/space/hemera/1/users/cmaffei/hcp_processing/mgh_1024\n",
      "Loading data for/space/hemera/1/users/cmaffei/hcp_processing/mgh_1025\n",
      "Starting recursive estimation for/space/hemera/1/users/cmaffei/hcp_processing/mgh_1025\n",
      "Computing FODFs for/space/hemera/1/users/cmaffei/hcp_processing/mgh_1025\n",
      "Saving FODFs for/space/hemera/1/users/cmaffei/hcp_processing/mgh_1025\n",
      "Loading data for/space/hemera/1/users/cmaffei/hcp_processing/mgh_1026\n",
      "Starting recursive estimation for/space/hemera/1/users/cmaffei/hcp_processing/mgh_1026\n",
      "Computing FODFs for/space/hemera/1/users/cmaffei/hcp_processing/mgh_1026\n",
      "Saving FODFs for/space/hemera/1/users/cmaffei/hcp_processing/mgh_1026\n",
      "Loading data for/space/hemera/1/users/cmaffei/hcp_processing/mgh_1027\n",
      "Starting recursive estimation for/space/hemera/1/users/cmaffei/hcp_processing/mgh_1027\n",
      "Computing FODFs for/space/hemera/1/users/cmaffei/hcp_processing/mgh_1027\n",
      "Saving FODFs for/space/hemera/1/users/cmaffei/hcp_processing/mgh_1027\n",
      "Loading data for/space/hemera/1/users/cmaffei/hcp_processing/mgh_1028\n",
      "Starting recursive estimation for/space/hemera/1/users/cmaffei/hcp_processing/mgh_1028\n",
      "Computing FODFs for/space/hemera/1/users/cmaffei/hcp_processing/mgh_1028\n",
      "Saving FODFs for/space/hemera/1/users/cmaffei/hcp_processing/mgh_1028\n",
      "Loading data for/space/hemera/1/users/cmaffei/hcp_processing/mgh_1029\n",
      "Starting recursive estimation for/space/hemera/1/users/cmaffei/hcp_processing/mgh_1029\n",
      "Computing FODFs for/space/hemera/1/users/cmaffei/hcp_processing/mgh_1029\n",
      "Saving FODFs for/space/hemera/1/users/cmaffei/hcp_processing/mgh_1029\n",
      "Loading data for/space/hemera/1/users/cmaffei/hcp_processing/mgh_1030\n",
      "Starting recursive estimation for/space/hemera/1/users/cmaffei/hcp_processing/mgh_1030\n",
      "Computing FODFs for/space/hemera/1/users/cmaffei/hcp_processing/mgh_1030\n",
      "Saving FODFs for/space/hemera/1/users/cmaffei/hcp_processing/mgh_1030\n",
      "Loading data for/space/hemera/1/users/cmaffei/hcp_processing/mgh_1031\n",
      "Starting recursive estimation for/space/hemera/1/users/cmaffei/hcp_processing/mgh_1031\n",
      "Computing FODFs for/space/hemera/1/users/cmaffei/hcp_processing/mgh_1031\n",
      "Saving FODFs for/space/hemera/1/users/cmaffei/hcp_processing/mgh_1031\n",
      "Loading data for/space/hemera/1/users/cmaffei/hcp_processing/mgh_1032\n",
      "Starting recursive estimation for/space/hemera/1/users/cmaffei/hcp_processing/mgh_1032\n",
      "Computing FODFs for/space/hemera/1/users/cmaffei/hcp_processing/mgh_1032\n",
      "Saving FODFs for/space/hemera/1/users/cmaffei/hcp_processing/mgh_1032\n",
      "Loading data for/space/hemera/1/users/cmaffei/hcp_processing/mgh_1033\n",
      "Starting recursive estimation for/space/hemera/1/users/cmaffei/hcp_processing/mgh_1033\n",
      "Computing FODFs for/space/hemera/1/users/cmaffei/hcp_processing/mgh_1033\n",
      "Saving FODFs for/space/hemera/1/users/cmaffei/hcp_processing/mgh_1033\n",
      "Loading data for/space/hemera/1/users/cmaffei/hcp_processing/mgh_1034\n",
      "Starting recursive estimation for/space/hemera/1/users/cmaffei/hcp_processing/mgh_1034\n",
      "Computing FODFs for/space/hemera/1/users/cmaffei/hcp_processing/mgh_1034\n",
      "Saving FODFs for/space/hemera/1/users/cmaffei/hcp_processing/mgh_1034\n",
      "Loading data for/space/hemera/1/users/cmaffei/hcp_processing/mgh_1035\n",
      "Starting recursive estimation for/space/hemera/1/users/cmaffei/hcp_processing/mgh_1035\n",
      "Computing FODFs for/space/hemera/1/users/cmaffei/hcp_processing/mgh_1035\n",
      "Saving FODFs for/space/hemera/1/users/cmaffei/hcp_processing/mgh_1035\n"
     ]
    }
   ],
   "source": [
    "for sub in sorted(glob.glob(os.path.join(wd, 'mgh_*'))):\n",
    "    print('Loading data for'+str(sub)) #loading data\n",
    "    img = nib.load(os.path.join(sub, '10k/data_corr.nii.gz'))\n",
    "    data = img.get_data()\n",
    "    bvals, bvecs = read_bvals_bvecs(os.path.join(sub, '10k/bvals'), os.path.join(sub, '10k/bvecs'))\n",
    "    gtab = gradient_table(bvals, bvecs)\n",
    "    mask = nib.load(os.path.join(sub, 'nodif_brain_mask.nii.gz')).get_data()\n",
    "    #recursive estimation\n",
    "    print('Starting recursive estimation for'+str(sub))\n",
    "    wm_mask=nib.load(os.path.join(sub,\"body_cc.nii.gz\")).get_data()\n",
    "    wm_mask=wm_mask>0.7\n",
    "    response = recursive_response(gtab, data, mask=wm_mask, sh_order=8,\n",
    "                                  peak_thr=0.1, init_fa=0.1,\n",
    "                              init_trace=0.0021, iter=20, convergence=0.01, parallel=True, nbr_processes=4)\n",
    "\n",
    "   \n",
    "    print('Computing FODFs for'+str(sub))\n",
    "    csd_model = ConstrainedSphericalDeconvModel(gtab, response, sh_order=8)\n",
    "    csd_peaks = peaks_from_model(model=csd_model,\n",
    "                             data=data,\n",
    "                             sphere=sphere,\n",
    "                             relative_peak_threshold=.5,\n",
    "                             sh_order=8,\n",
    "                             min_separation_angle=25,\n",
    "                             mask=mask, return_sh=True)\n",
    "    print('Saving FODFs for'+str(sub))\n",
    "    nib.save(nib.Nifti1Image(csd_peaks.shm_coeff.astype(np.float32),\n",
    "                                  img.affine, img.header), os.path.join(sub, '10k/odfs_01_01_body_cc.nii.gz'))"
   ]
  }
 ],
 "metadata": {
  "kernelspec": {
   "display_name": "Python 2",
   "language": "python",
   "name": "python2"
  },
  "language_info": {
   "codemirror_mode": {
    "name": "ipython",
    "version": 2
   },
   "file_extension": ".py",
   "mimetype": "text/x-python",
   "name": "python",
   "nbconvert_exporter": "python",
   "pygments_lexer": "ipython2",
   "version": "2.7.14"
  }
 },
 "nbformat": 4,
 "nbformat_minor": 2
}
