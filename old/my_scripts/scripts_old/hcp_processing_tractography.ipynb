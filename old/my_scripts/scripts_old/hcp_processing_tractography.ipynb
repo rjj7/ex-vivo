{
 "cells": [
  {
   "cell_type": "code",
   "execution_count": 1,
   "metadata": {
    "collapsed": true
   },
   "outputs": [],
   "source": [
    "import numpy as np\n",
    "import matplotlib.pyplot as plt\n",
    "import nibabel as nib\n",
    "import os\n",
    "import glob\n",
    "\n",
    "from dipy.core.sphere import faces_from_sphere_vertices, unique_edges\n",
    "from dipy.data import get_sphere, HemiSphere, Sphere\n",
    "from dipy.io.streamline import load_trk\n",
    "from dipy.io.streamline import save_trk\n",
    "from dipy.tracking import utils\n",
    "from dipy.tracking.local import (CmcTissueClassifier, LocalTracking)\n",
    "from dipy.tracking.streamline import Streamlines\n",
    "from dipy.tracking.utils import random_seeds_from_mask\n",
    "from dipy.direction import ProbabilisticDirectionGetter, DeterministicMaximumDirectionGetter\n",
    "from os import path"
   ]
  },
  {
   "cell_type": "code",
   "execution_count": 2,
   "metadata": {
    "collapsed": true
   },
   "outputs": [],
   "source": [
    "os.chdir('/space/hemera/1/users/cmaffei/hcp_processing')\n",
    "wd = '/space/hemera/1/users/cmaffei/hcp_processing'"
   ]
  },
  {
   "cell_type": "code",
   "execution_count": 3,
   "metadata": {
    "collapsed": true
   },
   "outputs": [],
   "source": [
    "sphere642 = get_sphere('symmetric642')\n",
    "sphere642.vertices = sphere642.vertices.astype('float')\n",
    "sphere642.edges = sphere642.edges.astype('uint16')\n",
    "sphere642.faces = sphere642.faces.astype('uint16')\n",
    "sphere642.phi = sphere642.phi.astype('float')"
   ]
  },
  {
   "cell_type": "markdown",
   "metadata": {},
   "source": [
    "## GQI Tractography"
   ]
  },
  {
   "cell_type": "code",
   "execution_count": null,
   "metadata": {
    "collapsed": false
   },
   "outputs": [],
   "source": [
    "#tractography parameters\n",
    "step_size = 0.25\n",
    "max_angle= 30\n",
    "pmf_thr=0.5\n",
    "seeds_count=10\n",
    "affine=np.eye(4)\n",
    "\n",
    "for sub in glob.glob(os.path.join(wd, 'mgh_*')):\n",
    "    if path.exists('gqi_prob_npv10_30_025.trk'):\n",
    "        print('Tractography already done')\n",
    "    else:\n",
    "        print('Loading ODFs for'+str(sub)) #loading odfs\n",
    "        img = nib.load(os.path.join(sub, 'all_shells/odfs_norm.nii.gz'))\n",
    "        odfs_gqi = img.get_data()\n",
    "        #Getting directions for tracking\n",
    "        pmf = odfs_gqi.clip(min=0)\n",
    "        prob_dg = ProbabilisticDirectionGetter.from_pmf(pmf, max_angle, \n",
    "                                                    sphere642, pmf_thr)\n",
    "        #Define the seeds from a white matter binary mask\n",
    "        seed_mask = nib.load(os.path.join(sub, 'wm_mask_bin.nii.gz')).get_data()    \n",
    "        seeds = random_seeds_from_mask(seed_mask, seeds_count)\n",
    "        #Import PVE maps\n",
    "        img_pve_gm =  nib.load(os.path.join(sub, 't12fa_pve_1_res.nii.gz'))\n",
    "        img_pve_csf =  nib.load(os.path.join(sub, 't12fa_pve_0_res.nii.gz'))\n",
    "        img_pve_wm = nib.load(os.path.join(sub, 't12fa_pve_2_res.nii.gz'))\n",
    "        voxel_size = np.average(img_pve_wm.get_header()['pixdim'][1:4])\n",
    "        #cmc_classifier\n",
    "        cmc_classifier = CmcTissueClassifier.from_pve(img_pve_wm.get_data(),\n",
    "                                              img_pve_gm.get_data(),\n",
    "                                              img_pve_csf.get_data(),\n",
    "                                              step_size=step_size,\n",
    "                                              average_voxel_size=voxel_size)\n",
    "        print('Start Tracking for'+str(sub)) #tracking\n",
    "        all_streamlines_cmc_classifier = LocalTracking(prob_dg,\n",
    "                                               cmc_classifier,\n",
    "                                               seeds, \n",
    "                                               affine, step_size=step_size,\n",
    "                                               return_all=True)\n",
    "        streamlines = Streamlines(all_streamlines_cmc_classifier)\n",
    "        print ('Saving Streamlines for'+str(sub))#save_trk\n",
    "        save_trk(os.path.join(sub, 'gqi_prob_npv10_30_025.trk'), streamlines, img.affine,\n",
    "         shape=img.shape[:3], vox_size=img.header.get_zooms()[:3])"
   ]
  },
  {
   "cell_type": "markdown",
   "metadata": {},
   "source": [
    "## GQI Deterministic"
   ]
  },
  {
   "cell_type": "code",
   "execution_count": 5,
   "metadata": {
    "collapsed": true
   },
   "outputs": [
    {
     "name": "stdout",
     "output_type": "stream",
     "text": [
      "Tractography already done\n",
      "Tractography already done\n",
      "Tractography already done\n",
      "Tractography already done\n",
      "Tractography already done\n",
      "Tractography already done\n",
      "Tractography already done\n",
      "Tractography already done\n",
      "Tractography already done\n",
      "Tractography already done\n",
      "Tractography already done\n",
      "Tractography already done\n",
      "Tractography already done\n",
      "Tractography already done\n",
      "Tractography already done\n",
      "Tractography already done\n",
      "Tractography already done\n",
      "Tractography already done\n",
      "Tractography already done\n",
      "Tractography already done\n",
      "Tractography already done\n",
      "Tractography already done\n",
      "Tractography already done\n",
      "Tractography already done\n",
      "Tractography already done\n",
      "Tractography already done\n",
      "Tractography already done\n",
      "Tractography already done\n",
      "Loading ODFs for/space/hemera/1/users/cmaffei/hcp_processing/mgh_1030\n"
     ]
    },
    {
     "name": "stderr",
     "output_type": "stream",
     "text": [
      "/autofs/space/tinia_001/users/chiara/anaconda2/lib/python2.7/site-packages/ipykernel/__main__.py:24: DeprecationWarning: get_header method is deprecated.\n",
      "Please use the ``img.header`` property instead.\n",
      "\n",
      "* deprecated from version: 2.1\n",
      "* Will raise <class 'nibabel.deprecator.ExpiredDeprecationError'> as of version: 4.0\n"
     ]
    },
    {
     "name": "stdout",
     "output_type": "stream",
     "text": [
      "Start Tracking for/space/hemera/1/users/cmaffei/hcp_processing/mgh_1030\n",
      "Saving Streamlines for/space/hemera/1/users/cmaffei/hcp_processing/mgh_1030\n",
      "Loading ODFs for/space/hemera/1/users/cmaffei/hcp_processing/mgh_1013\n",
      "Start Tracking for/space/hemera/1/users/cmaffei/hcp_processing/mgh_1013\n",
      "Saving Streamlines for/space/hemera/1/users/cmaffei/hcp_processing/mgh_1013\n",
      "Loading ODFs for/space/hemera/1/users/cmaffei/hcp_processing/mgh_1034\n",
      "Start Tracking for/space/hemera/1/users/cmaffei/hcp_processing/mgh_1034\n",
      "Saving Streamlines for/space/hemera/1/users/cmaffei/hcp_processing/mgh_1034\n",
      "Loading ODFs for/space/hemera/1/users/cmaffei/hcp_processing/mgh_1025\n",
      "Start Tracking for/space/hemera/1/users/cmaffei/hcp_processing/mgh_1025\n",
      "Saving Streamlines for/space/hemera/1/users/cmaffei/hcp_processing/mgh_1025\n",
      "Loading ODFs for/space/hemera/1/users/cmaffei/hcp_processing/mgh_1009\n",
      "Start Tracking for/space/hemera/1/users/cmaffei/hcp_processing/mgh_1009\n",
      "Saving Streamlines for/space/hemera/1/users/cmaffei/hcp_processing/mgh_1009\n",
      "Tractography already done\n"
     ]
    }
   ],
   "source": [
    "#tractography parameters\n",
    "step_size = 0.25\n",
    "max_angle= 30\n",
    "seeds_count=10\n",
    "affine=np.eye(4)\n",
    "\n",
    "for sub in glob.glob(os.path.join(wd, 'mgh_*')):\n",
    "    if path.exists(os.path.join(sub, 'gqi_det_npv10_30_025.trk')):\n",
    "        print('Tractography already done')\n",
    "    else:\n",
    "        print('Loading ODFs for'+str(sub)) #loading odfs\n",
    "        img = nib.load(os.path.join(sub, 'all_shells/odfs_norm.nii.gz'))\n",
    "        odfs_gqi = img.get_data()\n",
    "        pmf = odfs_gqi.clip(min=0)\n",
    "        det_dg = DeterministicMaximumDirectionGetter.from_pmf(pmf,max_angle,\n",
    "                                                             sphere642)\n",
    "        #Define the seeds from a white matter binary mask\n",
    "        seed_mask = nib.load(os.path.join(sub, 'wm_mask_bin.nii.gz')).get_data()    \n",
    "        seeds = random_seeds_from_mask(seed_mask, seeds_count)\n",
    "        #Import PVE maps\n",
    "        img_pve_gm =  nib.load(os.path.join(sub, 't12fa_pve_1_res.nii.gz'))\n",
    "        img_pve_csf =  nib.load(os.path.join(sub, 't12fa_pve_0_res.nii.gz'))\n",
    "        img_pve_wm = nib.load(os.path.join(sub, 't12fa_pve_2_res.nii.gz'))\n",
    "        voxel_size = np.average(img_pve_wm.get_header()['pixdim'][1:4])\n",
    "        #cmc_classifier\n",
    "        cmc_classifier = CmcTissueClassifier.from_pve(img_pve_wm.get_data(),\n",
    "                                              img_pve_gm.get_data(),\n",
    "                                              img_pve_csf.get_data(),\n",
    "                                              step_size=step_size,\n",
    "                                              average_voxel_size=voxel_size)\n",
    "        print('Start Tracking for'+str(sub)) #tracking\n",
    "        all_streamlines_cmc_classifier = LocalTracking(det_dg,\n",
    "                                               cmc_classifier,\n",
    "                                               seeds, \n",
    "                                               affine, step_size,\n",
    "                                               return_all=True)\n",
    "        streamlines = Streamlines(all_streamlines_cmc_classifier)\n",
    "        print ('Saving Streamlines for'+str(sub))#save_trk\n",
    "        save_trk(os.path.join(sub, 'gqi_det_npv10_30_025.trk'), streamlines, img.affine,\n",
    "             shape=img.shape[:3], vox_size=img.header.get_zooms()[:3])"
   ]
  },
  {
   "cell_type": "markdown",
   "metadata": {},
   "source": [
    "## CSD Tractography"
   ]
  },
  {
   "cell_type": "code",
   "execution_count": 3,
   "metadata": {
    "collapsed": false
   },
   "outputs": [
    {
     "name": "stdout",
     "output_type": "stream",
     "text": [
      "Loading ODFs for/space/hemera/1/users/cmaffei/hcp_processing/mgh_1010\n"
     ]
    },
    {
     "name": "stderr",
     "output_type": "stream",
     "text": [
      "/autofs/space/tinia_001/users/chiara/anaconda2/lib/python2.7/site-packages/ipykernel/__main__.py:24: DeprecationWarning: get_header method is deprecated.\n",
      "Please use the ``img.header`` property instead.\n",
      "\n",
      "* deprecated from version: 2.1\n",
      "* Will raise <class 'nibabel.deprecator.ExpiredDeprecationError'> as of version: 4.0\n"
     ]
    },
    {
     "name": "stdout",
     "output_type": "stream",
     "text": [
      "Start Tracking for/space/hemera/1/users/cmaffei/hcp_processing/mgh_1010\n",
      "Saving Streamlines for/space/hemera/1/users/cmaffei/hcp_processing/mgh_1010\n"
     ]
    }
   ],
   "source": [
    "#tractography parameters\n",
    "step_size = 0.5\n",
    "max_angle= 30\n",
    "pmf_thr=0.1\n",
    "seeds_count=2\n",
    "affine=np.eye(4)\n",
    "sphere = get_sphere('symmetric724')\n",
    "\n",
    "for sub in sorted(glob.glob(os.path.join(wd, 'mgh_1010'))):\n",
    "        print('Loading ODFs for'+str(sub)) #loading odfs\n",
    "        img = nib.load(os.path.join(sub, '10k/odfs_01_01_body_cc.nii.gz'))\n",
    "        odfs_csd = img.get_data()\n",
    "        #Getting directions for tracking\n",
    "        prob_dg = ProbabilisticDirectionGetter.from_shcoeff(odfs_csd, max_angle, \n",
    "                                                    sphere, pmf_thr)\n",
    "        #Define the seeds from a white matter binary mask\n",
    "        seed_mask = nib.load(os.path.join(sub, 't12fa_n_pve_2_res.nii.gz')).get_data()\n",
    "        seed_mask = seed_mask > 0.5\n",
    "        seeds = random_seeds_from_mask(seed_mask, seeds_count)\n",
    "        #Import PVE maps\n",
    "        img_pve_gm =  nib.load(os.path.join(sub, 't12fa_n_pve_1_res.nii.gz'))\n",
    "        img_pve_csf =  nib.load(os.path.join(sub, 't12fa_n_pve_0_res.nii.gz'))\n",
    "        img_pve_wm = nib.load(os.path.join(sub, 't12fa_n_pve_2_res.nii.gz'))\n",
    "        voxel_size = np.average(img_pve_wm.get_header()['pixdim'][1:4])\n",
    "        #cmc_classifier\n",
    "        cmc_classifier = CmcTissueClassifier.from_pve(img_pve_wm.get_data(),\n",
    "                                              img_pve_gm.get_data(),\n",
    "                                              img_pve_csf.get_data(),\n",
    "                                              step_size=step_size,\n",
    "                                              average_voxel_size=voxel_size)\n",
    "        print('Start Tracking for'+str(sub)) #tracking\n",
    "        all_streamlines_cmc_classifier = LocalTracking(prob_dg,\n",
    "                                               cmc_classifier,\n",
    "                                               seeds, \n",
    "                                               affine, step_size=step_size,\n",
    "                                               return_all=True)\n",
    "        streamlines = Streamlines(all_streamlines_cmc_classifier)\n",
    "        print ('Saving Streamlines for'+str(sub))#save_trk\n",
    "        save_trk(os.path.join(sub, '10k/odfs_01_01_body_cc_30_05_n_npv2.trk'), streamlines, img.affine,\n",
    "         shape=img.shape[:3], vox_size=img.header.get_zooms()[:3])\n",
    "    "
   ]
  },
  {
   "cell_type": "code",
   "execution_count": null,
   "metadata": {
    "collapsed": true
   },
   "outputs": [],
   "source": [
    "streamline_generator = LocalTracking(\n",
    "        csd_peaks, tissue_classifier, seeds, affine=np.eye(4),\n",
    "        step_size=0.5)"
   ]
  }
 ],
 "metadata": {
  "kernelspec": {
   "display_name": "Python 2",
   "language": "python",
   "name": "python2"
  },
  "language_info": {
   "codemirror_mode": {
    "name": "ipython",
    "version": 2
   },
   "file_extension": ".py",
   "mimetype": "text/x-python",
   "name": "python",
   "nbconvert_exporter": "python",
   "pygments_lexer": "ipython2",
   "version": "2.7.14"
  }
 },
 "nbformat": 4,
 "nbformat_minor": 2
}
