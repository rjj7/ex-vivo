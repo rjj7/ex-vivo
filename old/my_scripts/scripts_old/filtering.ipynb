{
 "cells": [
  {
   "cell_type": "code",
   "execution_count": 9,
   "metadata": {
    "collapsed": true
   },
   "outputs": [],
   "source": [
    "import numpy as np\n",
    "import matplotlib.pyplot as plt\n",
    "import nibabel as nib\n",
    "import os\n",
    "import glob\n",
    "\n",
    "from dipy.core.sphere import faces_from_sphere_vertices, unique_edges\n",
    "from dipy.data import get_sphere, HemiSphere, Sphere\n",
    "from dipy.io.streamline import load_trk\n",
    "from dipy.io.streamline import save_trk\n",
    "from dipy.tracking import utils\n",
    "from dipy.tracking.local import (CmcTissueClassifier, LocalTracking)\n",
    "from dipy.tracking.streamline import Streamlines\n",
    "from dipy.tracking.utils import random_seeds_from_mask, move_streamlines\n",
    "from dipy.direction import ProbabilisticDirectionGetter, DeterministicMaximumDirectionGetter\n",
    "from os import path"
   ]
  },
  {
   "cell_type": "code",
   "execution_count": 6,
   "metadata": {},
   "outputs": [],
   "source": [
    "os.chdir('/space/hemera/1/users/cmaffei/hcp_processing/mgh_1015/')\n",
    "wd = '/space/hemera/1/users/cmaffei/hcp_processing/mgh_1015/'"
   ]
  },
  {
   "cell_type": "code",
   "execution_count": 1,
   "metadata": {
    "collapsed": true
   },
   "outputs": [],
   "source": [
    "from dipy.tracking.distances import approx_polygon_track"
   ]
  },
  {
   "cell_type": "code",
   "execution_count": 45,
   "metadata": {},
   "outputs": [],
   "source": [
    "bundle, hdr = load_trk('prova_nuova_pve_30_05.trk')\n",
    "bundle = Streamlines(bundle)\n",
    "bundle_moved = move_streamlines(bundle, np.eye(4), img.affine)"
   ]
  },
  {
   "cell_type": "code",
   "execution_count": 40,
   "metadata": {},
   "outputs": [],
   "source": [
    "bundle_downsampled = [approx_polygon_track(s, 0.4) for s in bundle_moved]\n",
    "bundle_downsampled = Streamlines(bundle_downsampled)"
   ]
  },
  {
   "cell_type": "code",
   "execution_count": 41,
   "metadata": {
    "collapsed": true
   },
   "outputs": [],
   "source": [
    "mask=(\"mask_er.nii.gz\")\n",
    "img = nib.load(mask)\n",
    "mask = img.get_data()"
   ]
  },
  {
   "cell_type": "code",
   "execution_count": 42,
   "metadata": {},
   "outputs": [],
   "source": [
    "affine= np.eye(4)\n",
    "save_trk('prova_downsampled_04.trk',\n",
    "         bundle_downsampled,\n",
    "         img.affine,\n",
    "         shape=img.shape[:3], vox_size=img.header.get_zooms()[:3])"
   ]
  },
  {
   "cell_type": "code",
   "execution_count": 46,
   "metadata": {},
   "outputs": [
    {
     "name": "stdout",
     "output_type": "stream",
     "text": [
      "The kernel already exists. Loading from /tmp/kernel_d33@1.00_d44@0.02_t@1.00_numverts100.npy\n",
      "The minimum fiber length is 10 points.                     Shorter fibers were found and removed.\n"
     ]
    },
    {
     "name": "stderr",
     "output_type": "stream",
     "text": [
      "Exception ValueError: 'max() arg is an empty sequence' in 'dipy.tracking.fbcmeasures.FBCMeasures.compute' ignored\n"
     ]
    },
    {
     "ename": "AttributeError",
     "evalue": "Memoryview is not initialized",
     "output_type": "error",
     "traceback": [
      "\u001b[0;31m---------------------------------------------------------------------------\u001b[0m",
      "\u001b[0;31mAttributeError\u001b[0m                            Traceback (most recent call last)",
      "\u001b[0;32m<ipython-input-46-74ac718f6caa>\u001b[0m in \u001b[0;36m<module>\u001b[0;34m()\u001b[0m\n\u001b[1;32m     13\u001b[0m \u001b[0;34m\u001b[0m\u001b[0m\n\u001b[1;32m     14\u001b[0m \u001b[0;31m# Apply a threshold on the RFBC to remove spurious fibers\u001b[0m\u001b[0;34m\u001b[0m\u001b[0;34m\u001b[0m\u001b[0m\n\u001b[0;32m---> 15\u001b[0;31m \u001b[0mfbc_sl_thres\u001b[0m\u001b[0;34m,\u001b[0m \u001b[0mclrs_thres\u001b[0m\u001b[0;34m,\u001b[0m \u001b[0mrfbc_thres\u001b[0m \u001b[0;34m=\u001b[0m   \u001b[0mfbc\u001b[0m\u001b[0;34m.\u001b[0m\u001b[0mget_points_rfbc_thresholded\u001b[0m\u001b[0;34m(\u001b[0m\u001b[0;36m0.125\u001b[0m\u001b[0;34m,\u001b[0m \u001b[0memphasis\u001b[0m\u001b[0;34m=\u001b[0m\u001b[0;36m0.01\u001b[0m\u001b[0;34m)\u001b[0m\u001b[0;34m\u001b[0m\u001b[0m\n\u001b[0m\u001b[1;32m     16\u001b[0m \u001b[0;34m\u001b[0m\u001b[0m\n\u001b[1;32m     17\u001b[0m \u001b[0;34m\u001b[0m\u001b[0m\n",
      "\u001b[0;32mdipy/tracking/fbcmeasures.pyx\u001b[0m in \u001b[0;36mdipy.tracking.fbcmeasures.FBCMeasures.get_points_rfbc_thresholded (dipy/tracking/fbcmeasures.c:3062)\u001b[0;34m()\u001b[0m\n",
      "\u001b[0;31mAttributeError\u001b[0m: Memoryview is not initialized"
     ]
    }
   ],
   "source": [
    "# Compute lookup table\n",
    "from dipy.denoise.enhancement_kernel import EnhancementKernel\n",
    "\n",
    "D33 = 1.0\n",
    "D44 = 0.02\n",
    "t = 1\n",
    "k = EnhancementKernel(D33, D44, t)\n",
    "\n",
    "# Apply FBC measures\n",
    "from dipy.tracking.fbcmeasures import FBCMeasures\n",
    "\n",
    "fbc = FBCMeasures(bundle_moved, k)\n",
    "\n",
    "# Apply a threshold on the RFBC to remove spurious fibers\n",
    "fbc_sl_thres, clrs_thres, rfbc_thres = \\\n",
    "  fbc.get_points_rfbc_thresholded(0.125, emphasis=0.01)\n",
    "    \n",
    "    \n",
    "    \n",
    "save_trk('prova_fbc.trk',\n",
    "         fbc_sl_thres,\n",
    "         img.affine,\n",
    "         shape=img.shape[:3], vox_size=img.header.get_zooms()[:3])"
   ]
  }
 ],
 "metadata": {
  "kernelspec": {
   "display_name": "Python 2",
   "language": "python",
   "name": "python2"
  },
  "language_info": {
   "codemirror_mode": {
    "name": "ipython",
    "version": 2
   },
   "file_extension": ".py",
   "mimetype": "text/x-python",
   "name": "python",
   "nbconvert_exporter": "python",
   "pygments_lexer": "ipython2",
   "version": "2.7.16"
  }
 },
 "nbformat": 4,
 "nbformat_minor": 2
}
