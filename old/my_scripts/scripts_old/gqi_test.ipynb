{
 "cells": [
  {
   "cell_type": "code",
   "execution_count": 1,
   "metadata": {},
   "outputs": [],
   "source": [
    "import numpy as np\n",
    "import nibabel as nib\n",
    "from dipy.data import fetch_taiwan_ntu_dsi, read_taiwan_ntu_dsi, get_sphere\n",
    "from dipy.reconst.gqi import GeneralizedQSamplingModel\n",
    "from dipy.direction import peaks_from_model\n",
    "from dipy.viz import window, actor, fvtk\n",
    "from dipy.segment.mask import median_otsu\n",
    "from dipy.io import read_bvals_bvecs\n",
    "from dipy.core.gradients import gradient_table\n",
    "from dipy.io.image import save_nifti\n",
    "from dipy.io.image import save_nifti"
   ]
  },
  {
   "cell_type": "code",
   "execution_count": 2,
   "metadata": {},
   "outputs": [
    {
     "name": "stdout",
     "output_type": "stream",
     "text": [
      "Data size is approximately 91MB\n",
      "Dataset is already in place. If you want to fetch it again please first remove the folder /homes/9/cy281/.dipy/taiwan_ntu_dsi \n",
      "See DSI203_license.txt for LICENSE. For the complete datasets please visit :          http://dsi-studio.labsolver.org\n",
      "Data size is approximately 91MB\n",
      "Dataset is already in place. If you want to fetch it again please first remove the folder /homes/9/cy281/.dipy/taiwan_ntu_dsi \n",
      "See DSI203_license.txt for LICENSE. For the complete datasets please visit :          http://dsi-studio.labsolver.org\n"
     ]
    }
   ],
   "source": [
    "fetch_taiwan_ntu_dsi()\n",
    "img, gtab = read_taiwan_ntu_dsi()"
   ]
  },
  {
   "cell_type": "code",
   "execution_count": 5,
   "metadata": {},
   "outputs": [
    {
     "name": "stdout",
     "output_type": "stream",
     "text": [
      "data.shape (96, 96, 60, 203)\n",
      "(203,)\n",
      "(203, 3)\n"
     ]
    }
   ],
   "source": [
    "data = img.get_data()\n",
    "print('data.shape (%d, %d, %d, %d)' % data.shape)\n",
    "voxel_size = img.header.get_zooms()[:3]\n",
    "print(gtab.bvals.shape)\n",
    "print(gtab.bvecs.shape)"
   ]
  },
  {
   "cell_type": "code",
   "execution_count": 6,
   "metadata": {
    "collapsed": true
   },
   "outputs": [],
   "source": [
    "maskdata, mask = median_otsu(data, 3, 1, False,\n",
    "                             vol_idx=range(10, 50), dilate=2)"
   ]
  },
  {
   "cell_type": "code",
   "execution_count": 28,
   "metadata": {},
   "outputs": [],
   "source": [
    "sphere = get_sphere('symmetric724')\n",
    "\n",
    "gqmodel = GeneralizedQSamplingModel(gtab, 'standard', sampling_length=1.2)\n",
    "\n",
    "gqpeaks = peaks_from_model(model=gqmodel, data=data,\n",
    "                           sphere=sphere, mask=mask,\n",
    "                           relative_peak_threshold=.5,\n",
    "                           min_separation_angle=25,\n",
    "                           return_odf=True,\n",
    "                           normalize_peaks=True)\n",
    "\n",
    "# sphere = get_sphere('symmetric724')\n",
    "# gqpeaks = peaks_from_model(model=gqmodel, data=data,\n",
    "#                            sphere=sphere, mask=mask,\n",
    "#                            relative_peak_threshold=.5,\n",
    "#                            min_separation_angle=25,\n",
    "#                            return_odf=True, return_sh=True, sh_basis_type='mrtrix',\n",
    "#                            normalize_peaks=True)\n",
    "\n",
    "# # save odf\n",
    "# nib.save(nib.Nifti1Image(gqpeaks.shm_coeff.astype(np.float32),\n",
    "#                                   img.affine, img.header), '/space/hemera/1/users/cmaffei/scilpy_mrtrix_comparison/gqtest_dipy_data/odf_sh_mrtrix_12.nii.gz')\n"
   ]
  },
  {
   "cell_type": "code",
   "execution_count": 18,
   "metadata": {},
   "outputs": [],
   "source": [
    "#Enables/disables interactive visualization\n",
    "interactive = True\n",
    "ren = window.Renderer()\n",
    "window.clear(ren)\n",
    "gq_peaks = actor.peak_slicer(gqpeaks.peak_dirs, gqpeaks.peak_values, colors=None)\n",
    "ren.add(gq_peaks)\n",
    "\n",
    "if interactive:\n",
    "    window.show(ren)"
   ]
  },
  {
   "cell_type": "code",
   "execution_count": 32,
   "metadata": {},
   "outputs": [
    {
     "data": {
      "text/plain": [
       "(724,)"
      ]
     },
     "execution_count": 32,
     "metadata": {},
     "output_type": "execute_result"
    }
   ],
   "source": [
    "import matplotlib.pyplot as plt \n",
    "vox_odf = gqpeaks.odf[58, 49, 39, :]\n",
    "vox_odf.shape\n",
    "plt.plot(vox_odf)\n",
    "plt.title('GQI2 Method')\n",
    "plt.savefig('/space/hemera/1/users/cmaffei/scilpy_mrtrix_comparison/gqtest_dipy_data/gqi1_2_vox58,49,39.png')\n",
    "plt.show()"
   ]
  },
  {
   "cell_type": "code",
   "execution_count": 29,
   "metadata": {},
   "outputs": [],
   "source": [
    "#Enables/disables interactive visualization\n",
    "interactive = True\n",
    "r = window.Renderer()\n",
    "gqiodfs = gqpeaks.odf\n",
    "\n",
    "# gqiodfs = np.clip(gqiodfs, 0, np.max(gqiodfs, -1)[..., None])\n",
    "gqi_odfs_actor = actor.odf_slicer(gqiodfs, sphere=sphere, scale=0.5, colormap='plasma')\n",
    "gqi_odfs_actor.display_extent(58, 58, 49, 49, 39, 39)\n",
    "r.set_camera(position=(0, 10, 0))\n",
    "# gqi_odfs_actor.display(z=0)\n",
    "r.add(gqi_odfs_actor)\n",
    "window.record(r, out_path='/space/hemera/1/users/cmaffei/scilpy_mrtrix_comparison/gqtest_dipy_data/odf_standard_vox58,49,39.png', size=(600, 600))\n",
    "if interactive:\n",
    "        window.show(r)"
   ]
  },
  {
   "cell_type": "code",
   "execution_count": 50,
   "metadata": {},
   "outputs": [],
   "source": [
    "from dipy.direction import (peaks_from_model, ProbabilisticDirectionGetter)\n",
    "from dipy.data import small_sphere\n",
    "\n",
    "pmf = gqpeaks.odf.clip(min=0)\n",
    "prob_dg = ProbabilisticDirectionGetter.from_pmf(pmf, max_angle=30, sphere=sphere)"
   ]
  },
  {
   "cell_type": "code",
   "execution_count": 61,
   "metadata": {},
   "outputs": [
    {
     "name": "stdout",
     "output_type": "stream",
     "text": [
      "GFA.shape (96, 96, 60)\n"
     ]
    }
   ],
   "source": [
    "GFA = gqpeaks.gfa\n",
    "\n",
    "print('GFA.shape (%d, %d, %d)' % GFA.shape)"
   ]
  },
  {
   "cell_type": "code",
   "execution_count": 64,
   "metadata": {},
   "outputs": [],
   "source": [
    "from dipy.tracking import utils\n",
    "from dipy.tracking.local import (ThresholdTissueClassifier, LocalTracking,ActTissueClassifier)\n",
    "from dipy.tracking.streamline import Streamlines\n",
    "from dipy.io.streamline import save_trk\n",
    "from dipy.tracking.utils import random_seeds_from_mask\n",
    "\n",
    "seeds = random_seeds_from_mask(GFA > 0.4, seeds_count=1)\n",
    "tissue_classifier = ThresholdTissueClassifier(GFA, .25)"
   ]
  },
  {
   "cell_type": "code",
   "execution_count": 16,
   "metadata": {},
   "outputs": [
    {
     "name": "stdout",
     "output_type": "stream",
     "text": [
      "Number of streamlines: 61078\n"
     ]
    }
   ],
   "source": [
    "#Probabilistic Tractography\n",
    "streamlines_generator = LocalTracking(prob_dg, tissue_classifier, seeds, affine=np.eye(4), step_size=0.5)\n",
    "#Generate streamline object\n",
    "streamlines = Streamlines(streamlines_generator)\n",
    "\n",
    "#Save the trk file\n",
    "save_trk(\"/space/hemera/1/users/cmaffei/scilpy_mrtrix_comparison/gqtest_dipy_data/probabilistic_gqtest.trk\",\n",
    "         streamlines,\n",
    "         img.affine, shape=img.shape[:3], vox_size=voxel_size)\n",
    "\n",
    "#Deterministic Tractography\n",
    "streamline_generator = LocalTracking(\n",
    "        gqpeaks, tissue_classifier, seeds, affine=np.eye(4),\n",
    "        step_size=0.5)\n",
    "\n",
    "streamlines = Streamlines(streamline_generator)\n",
    "save_trk(\"/space/hemera/1/users/cmaffei/scilpy_mrtrix_comparison/gqtest_dipy_data/deterministic_gqtest.trk\",\n",
    "         streamlines,\n",
    "         img.affine, shape=img.shape[:3], vox_size=voxel_size)\n",
    "\n",
    "print(\"Number of streamlines: \" + str(len(streamlines)))"
   ]
  }
 ],
 "metadata": {
  "kernelspec": {
   "display_name": "Python 2",
   "language": "python",
   "name": "python2"
  },
  "language_info": {
   "codemirror_mode": {
    "name": "ipython",
    "version": 2
   },
   "file_extension": ".py",
   "mimetype": "text/x-python",
   "name": "python",
   "nbconvert_exporter": "python",
   "pygments_lexer": "ipython2",
   "version": "2.7.16"
  }
 },
 "nbformat": 4,
 "nbformat_minor": 2
}
