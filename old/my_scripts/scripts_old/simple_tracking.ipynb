{
 "cells": [
  {
   "cell_type": "code",
   "execution_count": 1,
   "metadata": {
    "collapsed": false
   },
   "outputs": [],
   "source": [
    "import numpy as np\n",
    "import nibabel as nib\n",
    "from dipy.tracking.local import LocalTracking, ThresholdTissueClassifier\n",
    "from dipy.tracking.utils import random_seeds_from_mask\n",
    "from dipy.reconst.dti import TensorModel\n",
    "from dipy.reconst.csdeconv import (ConstrainedSphericalDeconvModel,\n",
    "                                   auto_response)\n",
    "from dipy.direction import peaks_from_model\n",
    "from dipy.data import fetch_stanford_hardi, read_stanford_hardi, get_sphere\n",
    "from dipy.segment.mask import median_otsu\n",
    "from dipy.viz import actor, window\n",
    "from dipy.io.image import save_nifti\n",
    "from nibabel.streamlines import save as save_trk\n",
    "from nibabel.streamlines import Tractogram\n",
    "from dipy.tracking.streamline import Streamlines"
   ]
  },
  {
   "cell_type": "code",
   "execution_count": 4,
   "metadata": {
    "collapsed": false
   },
   "outputs": [
    {
     "name": "stdout",
     "output_type": "stream",
     "text": [
      "[    0.     0.     0.     0.     0.  1000.  1000.  1000.  1000.  1000.\n",
      "  1000.  1000.  1000.  1000.  1000.  1000.  1000.  1000.  1000.  1000.\n",
      "  1000.  1000.  1000.  1000.  1000.  1000.  1000.  1000.  1000.  1000.\n",
      "  1000.  1000.  1000.  1000.  1000.  1000.  1000.  1000.  1000.  1000.\n",
      "  1000.  1000.  1000.  1000.  1000.  1000.  1000.  1000.  1000.  1000.\n",
      "  1000.  1000.  1000.  1000.  1000.  1000.  1000.  1000.  1000.  1000.\n",
      "  1000.  1000.  1000.  1000.  1000.  1000.  1000.  1000.  1000.]\n",
      "data.shape (140, 140, 96, 69)\n"
     ]
    }
   ],
   "source": [
    "fimg = (\"/space/hemera/1/users/cmaffei/scilpy_mrtrix_comparison/1000/from_mgh/data_con.nii.gz\")\n",
    "img = nib.load(fimg)\n",
    "fbval=(\"/space/hemera/1/users/cmaffei/scilpy_mrtrix_comparison/1000/from_mgh/bval.txt\")\n",
    "fbvec = (\"/space/hemera/1/users/cmaffei/scilpy_mrtrix_comparison/1000/from_mgh/scilpy/bvec-x.txt\")\n",
    "data = img.get_data()\n",
    "from dipy.io import read_bvals_bvecs\n",
    "bvals, bvecs = read_bvals_bvecs(fbval, fbvec)\n",
    "from dipy.core.gradients import gradient_table\n",
    "gtab = gradient_table(bvals,bvecs)\n",
    "print(gtab.bvals)\n",
    "print('data.shape (%d, %d, %d, %d)' % data.shape)\n",
    "affine = img.affine"
   ]
  },
  {
   "cell_type": "code",
   "execution_count": 9,
   "metadata": {
    "collapsed": false
   },
   "outputs": [
    {
     "name": "stdout",
     "output_type": "stream",
     "text": [
      "mask.shape (140, 140, 96)\n"
     ]
    }
   ],
   "source": [
    "maskdata, mask = median_otsu(data, 3, 1, False,\n",
    "                             vol_idx=range(10, 50), dilate=2)\n",
    "save_nifti('/space/hemera/1/users/cmaffei/scilpy_mrtrix_comparison/1000/from_mgh/mask.nii.gz',\n",
    "          mask.astype('float32'), img.affine)\n",
    "print('mask.shape (%d, %d, %d)' % mask.shape)"
   ]
  },
  {
   "cell_type": "code",
   "execution_count": 10,
   "metadata": {
    "collapsed": false
   },
   "outputs": [
    {
     "name": "stderr",
     "output_type": "stream",
     "text": [
      "/autofs/space/tinia_001/users/chiara/anaconda2/lib/python2.7/site-packages/dipy/reconst/csdeconv.py:588: UserWarning: maximum number of iterations exceeded - failed to converge\n",
      "  warnings.warn(msg)\n",
      "/autofs/space/tinia_001/users/chiara/anaconda2/lib/python2.7/site-packages/dipy/reconst/csdeconv.py:588: UserWarning: maximum number of iterations exceeded - failed to converge\n",
      "  warnings.warn(msg)\n",
      "/autofs/space/tinia_001/users/chiara/anaconda2/lib/python2.7/site-packages/dipy/reconst/csdeconv.py:588: UserWarning: maximum number of iterations exceeded - failed to converge\n",
      "  warnings.warn(msg)\n"
     ]
    }
   ],
   "source": [
    "response, ratio = auto_response(gtab, data, roi_radius=10, fa_thr=0.7)\n",
    "\n",
    "csd_model = ConstrainedSphericalDeconvModel(gtab, response)\n",
    "sphere = get_sphere('symmetric724')\n",
    "\n",
    "csd_peaks = peaks_from_model(model=csd_model,\n",
    "                             data=data,\n",
    "                             sphere=sphere,\n",
    "                             mask=mask,\n",
    "                             relative_peak_threshold=.5,\n",
    "                             min_separation_angle=25,\n",
    "                             parallel=True)"
   ]
  },
  {
   "cell_type": "code",
   "execution_count": 40,
   "metadata": {
    "collapsed": true
   },
   "outputs": [],
   "source": [
    "tensor_model = TensorModel(gtab, fit_method='WLS')\n",
    "tensor_fit = tensor_model.fit(data, mask)\n",
    "\n",
    "fa = tensor_fit.fa\n",
    "\n",
    "save_nifti('/space/hemera/1/users/cmaffei/scilpy_mrtrix_comparison/1000/from_mgh/fa_map.nii.gz', fa, img.affine)"
   ]
  },
  {
   "cell_type": "code",
   "execution_count": 139,
   "metadata": {
    "collapsed": false
   },
   "outputs": [],
   "source": [
    "tissue_classifier = ThresholdTissueClassifier(fa, 0.1)\n",
    "seeds = random_seeds_from_mask(fa > 0.3, seeds_count=1)"
   ]
  },
  {
   "cell_type": "markdown",
   "metadata": {},
   "source": [
    "##important noote: always track in world space!!!! no affine provided when placing the seeds!"
   ]
  },
  {
   "cell_type": "code",
   "execution_count": 142,
   "metadata": {
    "collapsed": false
   },
   "outputs": [],
   "source": [
    "interactive = True\n",
    "ren = window.Renderer()\n",
    "ren.add(actor.peak_slicer(csd_peaks.peak_dirs,\n",
    "                          csd_peaks.peak_values,\n",
    "                          colors=None))\n",
    "\n",
    "if interactive:\n",
    "    window.show(ren, size=(900, 900))\n",
    "else:\n",
    "    window.record(ren, out_path='csd_direction_field.png', size=(900, 900))"
   ]
  },
  {
   "cell_type": "code",
   "execution_count": 140,
   "metadata": {
    "collapsed": false
   },
   "outputs": [],
   "source": [
    "streamline_generator = LocalTracking(csd_peaks, tissue_classifier,\n",
    "                                     seeds, affine=np.eye(4),\n",
    "                                     step_size=0.5)\n",
    "\n",
    "streamlines = Streamlines(streamline_generator)"
   ]
  },
  {
   "cell_type": "code",
   "execution_count": 53,
   "metadata": {
    "collapsed": false
   },
   "outputs": [
    {
     "name": "stdout",
     "output_type": "stream",
     "text": [
      "261913\n"
     ]
    }
   ],
   "source": [
    "print(len(streamlines))\n"
   ]
  },
  {
   "cell_type": "code",
   "execution_count": 174,
   "metadata": {
    "collapsed": false
   },
   "outputs": [
    {
     "data": {
      "text/plain": [
       "dtype('float32')"
      ]
     },
     "execution_count": 174,
     "metadata": {},
     "output_type": "execute_result"
    }
   ],
   "source": [
    "sphere.vertices\n",
    "from dipy.data import get_sphere\n",
    "sphere_642 = get_sphere('symmetric642')\n",
    "sphere_642.vertices.dtype"
   ]
  },
  {
   "cell_type": "code",
   "execution_count": 18,
   "metadata": {
    "collapsed": true
   },
   "outputs": [],
   "source": [
    "interactive = True\n",
    "ren.clear()\n",
    "ren.add(actor.line(streamlines))\n",
    "\n",
    "if interactive:\n",
    "    window.show(ren, size=(900, 900))\n",
    "else:\n",
    "    print('Saving illustration as det_streamlines.png')\n",
    "    window.record(ren, out_path='det_streamlines.png', size=(900, 900))"
   ]
  },
  {
   "cell_type": "code",
   "execution_count": 54,
   "metadata": {
    "collapsed": false
   },
   "outputs": [
    {
     "name": "stderr",
     "output_type": "stream",
     "text": [
      "/autofs/space/tinia_001/users/chiara/anaconda2/lib/python2.7/site-packages/dipy/io/trackvis.py:22: DeprecationWarning: The `dipy.io.trackvis.save_trk` function is deprecated as of version 0.14 of Dipy and will be removed in a future version. Please use `dipy.io.streamline.save_trk` function instead\n",
      "  DeprecationWarning)\n"
     ]
    }
   ],
   "source": [
    "from dipy.io.trackvis import save_trk\n",
    "streamlines = Streamlines(streamline_generator)\n",
    "save_trk('/space/hemera/1/users/cmaffei/scilpy_mrtrix_comparison/1000/from_mgh/det_streamlines_23_5_shape2.trk', streamlines, img.affine, fa.shape)"
   ]
  },
  {
   "cell_type": "markdown",
   "metadata": {},
   "source": [
    "teh following way saves the file trk correctly with the trasform!"
   ]
  },
  {
   "cell_type": "code",
   "execution_count": 141,
   "metadata": {
    "collapsed": false
   },
   "outputs": [],
   "source": [
    "from dipy.io.streamline import save_trk\n",
    "\n",
    "fname= '/space/hemera/1/users/cmaffei/scilpy_mrtrix_comparison/1000/from_mgh/det_streamlines_23_5_shape.trk'\n",
    "voxel_size = voxel_size = img.header.get_zooms()[:3]\n",
    "save_trk(fname, streamlines, img.affine, shape=img.shape[:3], vox_size=voxel_size)"
   ]
  }
 ],
 "metadata": {
  "kernelspec": {
   "display_name": "Python 2",
   "language": "python",
   "name": "python2"
  },
  "language_info": {
   "codemirror_mode": {
    "name": "ipython",
    "version": 2
   },
   "file_extension": ".py",
   "mimetype": "text/x-python",
   "name": "python",
   "nbconvert_exporter": "python",
   "pygments_lexer": "ipython2",
   "version": "2.7.14"
  }
 },
 "nbformat": 4,
 "nbformat_minor": 2
}
