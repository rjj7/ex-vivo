{
 "cells": [
  {
   "cell_type": "code",
   "execution_count": 1,
   "metadata": {},
   "outputs": [],
   "source": [
    "import numpy as np\n",
    "import nibabel as nib\n",
    "import matplotlib.pyplot as pltn\n",
    "import os\n",
    "from nibabel.streamlines import save as save_trk\n",
    "from nibabel.streamlines import Tractogram\n",
    "from os import path\n",
    "from dipy.tracking.local import ParticleFilteringTracking\n",
    "from dipy.core.gradients import gradient_table, GradientTable\n",
    "from dipy.data import get_sphere, Sphere, HemiSphere\n",
    "from dipy.direction import (peaks_from_model, ProbabilisticDirectionGetter)\n",
    "from dipy.io import read_bvals_bvecs\n",
    "from dipy.io.image import save_nifti\n",
    "from dipy.io.streamline import save_trk, load_trk\n",
    "from dipy.reconst.peaks import reshape_peaks_for_visualization\n",
    "from dipy.reconst.dti import TensorModel, fractional_anisotropy, mean_diffusivity\n",
    "from dipy.reconst.csdeconv import (ConstrainedSphericalDeconvModel,auto_response, recursive_response)\n",
    "from dipy.segment.mask import median_otsu\n",
    "from dipy.tracking.local import (LocalTracking, ThresholdTissueClassifier, ActTissueClassifier, CmcTissueClassifier)\n",
    "from dipy.tracking.streamline import Streamlines\n",
    "from dipy.tracking.utils import random_seeds_from_mask, move_streamlines\n",
    "from dipy.viz import actor, window\n",
    "from dipy.tracking.utils import target, density_map\n",
    "from dipy.reconst.shm import sh_to_sf\n",
    "from dipy.core.gradients import gradient_table\n",
    "from dipy.data import get_sphere\n",
    "from dipy.io import read_bvals_bvecs\n",
    "from dipy.io.image import save_nifti\n",
    "from dipy.reconst.dti import fractional_anisotropy, color_fa, lower_triangular\n",
    "from dipy.reconst.dti import TensorModel\n",
    "from dipy.viz import window, actor\n",
    "import dipy.reconst.dti as dti\n",
    "from dipy.viz import window, actor"
   ]
  },
  {
   "cell_type": "code",
   "execution_count": 2,
   "metadata": {},
   "outputs": [],
   "source": [
    "os.chdir('/space/hemera/1/users/cmaffei/ex_vivo/')\n",
    "wd = '/space/hemera/1/users/cmaffei/ex_vivo/'"
   ]
  },
  {
   "cell_type": "code",
   "execution_count": 3,
   "metadata": {},
   "outputs": [
    {
     "ename": "IOError",
     "evalue": "[Errno 2] No such file or directory: 'hemi/bvals'",
     "output_type": "error",
     "traceback": [
      "\u001b[0;31m---------------------------------------------------------------------------\u001b[0m",
      "\u001b[0;31mIOError\u001b[0m                                   Traceback (most recent call last)",
      "\u001b[0;32m<ipython-input-3-ce4455f869cb>\u001b[0m in \u001b[0;36m<module>\u001b[0;34m()\u001b[0m\n\u001b[1;32m      9\u001b[0m \u001b[0mfbval\u001b[0m\u001b[0;34m=\u001b[0m \u001b[0;34m(\u001b[0m\u001b[0;34m'hemi/bvals'\u001b[0m\u001b[0;34m)\u001b[0m\u001b[0;34m\u001b[0m\u001b[0m\n\u001b[1;32m     10\u001b[0m \u001b[0mfbvec\u001b[0m \u001b[0;34m=\u001b[0m \u001b[0;34m(\u001b[0m\u001b[0;34m\"hemi/bvecs\"\u001b[0m\u001b[0;34m)\u001b[0m\u001b[0;34m\u001b[0m\u001b[0m\n\u001b[0;32m---> 11\u001b[0;31m \u001b[0mbvals\u001b[0m\u001b[0;34m,\u001b[0m \u001b[0mbvecs\u001b[0m \u001b[0;34m=\u001b[0m \u001b[0mread_bvals_bvecs\u001b[0m\u001b[0;34m(\u001b[0m\u001b[0mfbval\u001b[0m\u001b[0;34m,\u001b[0m \u001b[0mfbvec\u001b[0m\u001b[0;34m)\u001b[0m\u001b[0;34m\u001b[0m\u001b[0m\n\u001b[0m\u001b[1;32m     12\u001b[0m \u001b[0mgtab\u001b[0m \u001b[0;34m=\u001b[0m \u001b[0mgradient_table\u001b[0m\u001b[0;34m(\u001b[0m\u001b[0mbvals\u001b[0m\u001b[0;34m,\u001b[0m\u001b[0mbvecs\u001b[0m\u001b[0;34m)\u001b[0m\u001b[0;34m\u001b[0m\u001b[0m\n\u001b[1;32m     13\u001b[0m \u001b[0;31m#Read the voxel size from the image header.\u001b[0m\u001b[0;34m\u001b[0m\u001b[0;34m\u001b[0m\u001b[0m\n",
      "\u001b[0;32m/autofs/space/tinia_001/users/chiara/anaconda2/lib/python2.7/site-packages/dipy/io/gradients.pyc\u001b[0m in \u001b[0;36mread_bvals_bvecs\u001b[0;34m(fbvals, fbvecs)\u001b[0m\n\u001b[1;32m     42\u001b[0m                 \u001b[0mbase\u001b[0m\u001b[0;34m,\u001b[0m \u001b[0mext\u001b[0m \u001b[0;34m=\u001b[0m \u001b[0msplitext\u001b[0m\u001b[0;34m(\u001b[0m\u001b[0mthis_fname\u001b[0m\u001b[0;34m)\u001b[0m\u001b[0;34m\u001b[0m\u001b[0m\n\u001b[1;32m     43\u001b[0m                 \u001b[0;32mif\u001b[0m \u001b[0mext\u001b[0m \u001b[0;32min\u001b[0m \u001b[0;34m[\u001b[0m\u001b[0;34m'.bvals'\u001b[0m\u001b[0;34m,\u001b[0m \u001b[0;34m'.bval'\u001b[0m\u001b[0;34m,\u001b[0m \u001b[0;34m'.bvecs'\u001b[0m\u001b[0;34m,\u001b[0m \u001b[0;34m'.bvec'\u001b[0m\u001b[0;34m,\u001b[0m \u001b[0;34m'.txt'\u001b[0m\u001b[0;34m,\u001b[0m \u001b[0;34m'.eddy_rotated_bvecs'\u001b[0m\u001b[0;34m,\u001b[0m \u001b[0;34m''\u001b[0m\u001b[0;34m]\u001b[0m\u001b[0;34m:\u001b[0m\u001b[0;34m\u001b[0m\u001b[0m\n\u001b[0;32m---> 44\u001b[0;31m                     \u001b[0;32mwith\u001b[0m \u001b[0mopen\u001b[0m\u001b[0;34m(\u001b[0m\u001b[0mthis_fname\u001b[0m\u001b[0;34m,\u001b[0m \u001b[0;34m'r'\u001b[0m\u001b[0;34m)\u001b[0m \u001b[0;32mas\u001b[0m \u001b[0mf\u001b[0m\u001b[0;34m:\u001b[0m\u001b[0;34m\u001b[0m\u001b[0m\n\u001b[0m\u001b[1;32m     45\u001b[0m                         \u001b[0mcontent\u001b[0m \u001b[0;34m=\u001b[0m \u001b[0mf\u001b[0m\u001b[0;34m.\u001b[0m\u001b[0mread\u001b[0m\u001b[0;34m(\u001b[0m\u001b[0;34m)\u001b[0m\u001b[0;34m\u001b[0m\u001b[0m\n\u001b[1;32m     46\u001b[0m                     \u001b[0;31m# We replace coma and tab delimiter by space\u001b[0m\u001b[0;34m\u001b[0m\u001b[0;34m\u001b[0m\u001b[0m\n",
      "\u001b[0;31mIOError\u001b[0m: [Errno 2] No such file or directory: 'hemi/bvals'"
     ]
    }
   ],
   "source": [
    "# # Import DWI data, bvec, bval, and binary mask\n",
    "# fimg =  ('dwi.nii')\n",
    "# img = nib.load(fimg)\n",
    "# data = img.get_data()\n",
    "# print(\"Data Shape: \" + str(data.shape))\n",
    "# affine = img.affine #no need to store the affine tho. \n",
    "\n",
    "#Bval and bvec file information import\n",
    "fbval= ('hemi/bvals')\n",
    "fbvec = (\"hemi/bvecs\")\n",
    "bvals, bvecs = read_bvals_bvecs(fbval, fbvec)\n",
    "gtab = gradient_table(bvals,bvecs)\n",
    "#Read the voxel size from the image header.\n",
    "voxel_size = img.header.get_zooms()[:3]\n",
    "print ('Voxel Size: ' + str(voxel_size))"
   ]
  },
  {
   "cell_type": "code",
   "execution_count": null,
   "metadata": {},
   "outputs": [],
   "source": [
    "#Fit the tensor model to data\n",
    "tenmodel = dti.TensorModel(gtab)\n",
    "tenfit = tenmodel.fit(data)"
   ]
  },
  {
   "cell_type": "code",
   "execution_count": null,
   "metadata": {},
   "outputs": [],
   "source": [
    "from dipy.data import get_sphere\n",
    "sphere = get_sphere('symmetric724')\n",
    "\n",
    "from dipy.viz import window, actor\n",
    "\n",
    "# Enables/disables interactive visualization\n",
    "interactive = True\n",
    "\n",
    "ren = window.Renderer()\n",
    "\n",
    "evals = tenfit.evals[:, :, 111:112]\n",
    "evecs = tenfit.evecs[:, :, 111:112]\n",
    "FA = fractional_anisotropy(tenfit.evals)\n",
    "RGB = color_fa(FA, tenfit.evecs)\n",
    "cfa = RGB[:, :, 111:112]\n",
    "cfa /= cfa.max()\n",
    "tensor_actor = actor.tensor_slicer(evals, evecs, scalar_colors=cfa, sphere=sphere, scale=0.3)\n",
    "ren.add(tensor_actor)\n",
    "if interactive:\n",
    "    window.show(ren)"
   ]
  },
  {
   "cell_type": "code",
   "execution_count": null,
   "metadata": {},
   "outputs": [],
   "source": [
    "#recursive response\n",
    "FA = nib.load('dti_fa.nii').get_data()\n",
    "# MD = mean_diffusivity(tenfit.evals)\n",
    "wm_mask = FA >= 0.5\n",
    "nib.save(nib.Nifti1Image(wm_mask.astype('float32'), img.affine, img.header), 'wm.nii.gz')\n",
    "\n",
    "response = recursive_response(gtab, data, mask=wm_mask, sh_order=6,\n",
    "                              peak_thr=0.01, init_fa=0.2,\n",
    "                              init_trace=0.0021, iter=20, convergence=0.0011, \n",
    "                              parallel=True, nbr_processes = 4)"
   ]
  },
  {
   "cell_type": "code",
   "execution_count": null,
   "metadata": {},
   "outputs": [],
   "source": [
    "#check the shape of the signal of the response function, which should be like a pancake:\n",
    "sphere = get_sphere('symmetric724')\n",
    "response_signal = response.on_sphere(sphere)\n",
    "# transform our data from 1D to 4D\n",
    "response_signal = response_signal[None, None, None, :]\n",
    "response_actor = actor.odf_slicer(\n",
    "    response_signal, sphere=sphere, colormap='plasma')\n",
    "interactive = True\n",
    "ren = window.Renderer()\n",
    "\n",
    "ren.add(response_actor)\n",
    "print('Saving illustration as csd_recursive_response.png')\n",
    "window.record(ren, out_path='csd_recursive_response.png', size=(200, 200))\n",
    "if interactive:\n",
    "    window.show(ren)"
   ]
  },
  {
   "cell_type": "code",
   "execution_count": null,
   "metadata": {},
   "outputs": [
    {
     "name": "stdout",
     "output_type": "stream",
     "text": [
      "Data Shape: (270, 288, 176, 102)\n",
      "Voxel Size: (0.75, 0.75, 0.75)\n"
     ]
    },
    {
     "name": "stderr",
     "output_type": "stream",
     "text": [
      "/autofs/space/tinia_001/users/chiara/anaconda2/lib/python2.7/site-packages/dipy/reconst/csdeconv.py:588: UserWarning: maximum number of iterations exceeded - failed to converge\n",
      "  warnings.warn(msg)\n",
      "/autofs/space/tinia_001/users/chiara/anaconda2/lib/python2.7/site-packages/dipy/reconst/csdeconv.py:588: UserWarning: maximum number of iterations exceeded - failed to converge\n",
      "  warnings.warn(msg)\n",
      "/autofs/space/tinia_001/users/chiara/anaconda2/lib/python2.7/site-packages/dipy/reconst/csdeconv.py:588: UserWarning: maximum number of iterations exceeded - failed to converge\n",
      "  warnings.warn(msg)\n",
      "/autofs/space/tinia_001/users/chiara/anaconda2/lib/python2.7/site-packages/dipy/reconst/csdeconv.py:588: UserWarning: maximum number of iterations exceeded - failed to converge\n",
      "  warnings.warn(msg)\n",
      "/autofs/space/tinia_001/users/chiara/anaconda2/lib/python2.7/site-packages/dipy/reconst/csdeconv.py:1033: RuntimeWarning: invalid value encountered in true_divide\n",
      "  single_peak_mask = (vals[:, 1] / vals[:, 0]) < peak_thr\n",
      "/autofs/space/tinia_001/users/chiara/anaconda2/lib/python2.7/site-packages/dipy/reconst/csdeconv.py:1033: RuntimeWarning: invalid value encountered in less\n",
      "  single_peak_mask = (vals[:, 1] / vals[:, 0]) < peak_thr\n",
      "/autofs/space/tinia_001/users/chiara/anaconda2/lib/python2.7/site-packages/dipy/reconst/csdeconv.py:588: UserWarning: maximum number of iterations exceeded - failed to converge\n",
      "  warnings.warn(msg)\n",
      "/autofs/space/tinia_001/users/chiara/anaconda2/lib/python2.7/site-packages/dipy/reconst/csdeconv.py:588: UserWarning: maximum number of iterations exceeded - failed to converge\n",
      "  warnings.warn(msg)\n",
      "/autofs/space/tinia_001/users/chiara/anaconda2/lib/python2.7/site-packages/dipy/reconst/csdeconv.py:588: UserWarning: maximum number of iterations exceeded - failed to converge\n",
      "  warnings.warn(msg)\n",
      "/autofs/space/tinia_001/users/chiara/anaconda2/lib/python2.7/site-packages/dipy/reconst/csdeconv.py:588: UserWarning: maximum number of iterations exceeded - failed to converge\n",
      "  warnings.warn(msg)\n",
      "/autofs/space/tinia_001/users/chiara/anaconda2/lib/python2.7/site-packages/dipy/reconst/csdeconv.py:588: UserWarning: maximum number of iterations exceeded - failed to converge\n",
      "  warnings.warn(msg)\n",
      "/autofs/space/tinia_001/users/chiara/anaconda2/lib/python2.7/site-packages/dipy/reconst/csdeconv.py:588: UserWarning: maximum number of iterations exceeded - failed to converge\n",
      "  warnings.warn(msg)\n",
      "/autofs/space/tinia_001/users/chiara/anaconda2/lib/python2.7/site-packages/dipy/reconst/csdeconv.py:588: UserWarning: maximum number of iterations exceeded - failed to converge\n",
      "  warnings.warn(msg)\n",
      "/autofs/space/tinia_001/users/chiara/anaconda2/lib/python2.7/site-packages/dipy/reconst/csdeconv.py:588: UserWarning: maximum number of iterations exceeded - failed to converge\n",
      "  warnings.warn(msg)\n",
      "/autofs/space/tinia_001/users/chiara/anaconda2/lib/python2.7/site-packages/dipy/reconst/csdeconv.py:588: UserWarning: maximum number of iterations exceeded - failed to converge\n",
      "  warnings.warn(msg)\n",
      "/autofs/space/tinia_001/users/chiara/anaconda2/lib/python2.7/site-packages/dipy/reconst/csdeconv.py:588: UserWarning: maximum number of iterations exceeded - failed to converge\n",
      "  warnings.warn(msg)\n",
      "/autofs/space/tinia_001/users/chiara/anaconda2/lib/python2.7/site-packages/dipy/reconst/csdeconv.py:588: UserWarning: maximum number of iterations exceeded - failed to converge\n",
      "  warnings.warn(msg)\n",
      "/autofs/space/tinia_001/users/chiara/anaconda2/lib/python2.7/site-packages/dipy/reconst/csdeconv.py:588: UserWarning: maximum number of iterations exceeded - failed to converge\n",
      "  warnings.warn(msg)\n",
      "/autofs/space/tinia_001/users/chiara/anaconda2/lib/python2.7/site-packages/dipy/reconst/csdeconv.py:588: UserWarning: maximum number of iterations exceeded - failed to converge\n",
      "  warnings.warn(msg)\n",
      "/autofs/space/tinia_001/users/chiara/anaconda2/lib/python2.7/site-packages/dipy/reconst/csdeconv.py:588: UserWarning: maximum number of iterations exceeded - failed to converge\n",
      "  warnings.warn(msg)\n",
      "/autofs/space/tinia_001/users/chiara/anaconda2/lib/python2.7/site-packages/dipy/reconst/csdeconv.py:588: UserWarning: maximum number of iterations exceeded - failed to converge\n",
      "  warnings.warn(msg)\n",
      "/autofs/space/tinia_001/users/chiara/anaconda2/lib/python2.7/site-packages/dipy/reconst/csdeconv.py:588: UserWarning: maximum number of iterations exceeded - failed to converge\n",
      "  warnings.warn(msg)\n",
      "/autofs/space/tinia_001/users/chiara/anaconda2/lib/python2.7/site-packages/dipy/reconst/csdeconv.py:588: UserWarning: maximum number of iterations exceeded - failed to converge\n",
      "  warnings.warn(msg)\n",
      "/autofs/space/tinia_001/users/chiara/anaconda2/lib/python2.7/site-packages/dipy/reconst/csdeconv.py:588: UserWarning: maximum number of iterations exceeded - failed to converge\n",
      "  warnings.warn(msg)\n",
      "/autofs/space/tinia_001/users/chiara/anaconda2/lib/python2.7/site-packages/dipy/reconst/csdeconv.py:588: UserWarning: maximum number of iterations exceeded - failed to converge\n",
      "  warnings.warn(msg)\n",
      "/autofs/space/tinia_001/users/chiara/anaconda2/lib/python2.7/site-packages/dipy/reconst/csdeconv.py:588: UserWarning: maximum number of iterations exceeded - failed to converge\n",
      "  warnings.warn(msg)\n",
      "/autofs/space/tinia_001/users/chiara/anaconda2/lib/python2.7/site-packages/dipy/reconst/csdeconv.py:588: UserWarning: maximum number of iterations exceeded - failed to converge\n",
      "  warnings.warn(msg)\n",
      "/autofs/space/tinia_001/users/chiara/anaconda2/lib/python2.7/site-packages/dipy/reconst/csdeconv.py:588: UserWarning: maximum number of iterations exceeded - failed to converge\n",
      "  warnings.warn(msg)\n",
      "/autofs/space/tinia_001/users/chiara/anaconda2/lib/python2.7/site-packages/dipy/reconst/csdeconv.py:588: UserWarning: maximum number of iterations exceeded - failed to converge\n",
      "  warnings.warn(msg)\n",
      "/autofs/space/tinia_001/users/chiara/anaconda2/lib/python2.7/site-packages/dipy/reconst/csdeconv.py:588: UserWarning: maximum number of iterations exceeded - failed to converge\n",
      "  warnings.warn(msg)\n",
      "/autofs/space/tinia_001/users/chiara/anaconda2/lib/python2.7/site-packages/dipy/reconst/csdeconv.py:588: UserWarning: maximum number of iterations exceeded - failed to converge\n",
      "  warnings.warn(msg)\n",
      "/autofs/space/tinia_001/users/chiara/anaconda2/lib/python2.7/site-packages/dipy/reconst/csdeconv.py:588: UserWarning: maximum number of iterations exceeded - failed to converge\n",
      "  warnings.warn(msg)\n",
      "/autofs/space/tinia_001/users/chiara/anaconda2/lib/python2.7/site-packages/dipy/reconst/csdeconv.py:588: UserWarning: maximum number of iterations exceeded - failed to converge\n",
      "  warnings.warn(msg)\n",
      "/autofs/space/tinia_001/users/chiara/anaconda2/lib/python2.7/site-packages/dipy/reconst/csdeconv.py:588: UserWarning: maximum number of iterations exceeded - failed to converge\n",
      "  warnings.warn(msg)\n",
      "/autofs/space/tinia_001/users/chiara/anaconda2/lib/python2.7/site-packages/dipy/reconst/csdeconv.py:588: UserWarning: maximum number of iterations exceeded - failed to converge\n",
      "  warnings.warn(msg)\n",
      "/autofs/space/tinia_001/users/chiara/anaconda2/lib/python2.7/site-packages/dipy/reconst/csdeconv.py:588: UserWarning: maximum number of iterations exceeded - failed to converge\n",
      "  warnings.warn(msg)\n",
      "/autofs/space/tinia_001/users/chiara/anaconda2/lib/python2.7/site-packages/dipy/reconst/csdeconv.py:588: UserWarning: maximum number of iterations exceeded - failed to converge\n",
      "  warnings.warn(msg)\n",
      "/autofs/space/tinia_001/users/chiara/anaconda2/lib/python2.7/site-packages/dipy/reconst/csdeconv.py:588: UserWarning: maximum number of iterations exceeded - failed to converge\n",
      "  warnings.warn(msg)\n",
      "/autofs/space/tinia_001/users/chiara/anaconda2/lib/python2.7/site-packages/dipy/reconst/csdeconv.py:588: UserWarning: maximum number of iterations exceeded - failed to converge\n",
      "  warnings.warn(msg)\n",
      "/autofs/space/tinia_001/users/chiara/anaconda2/lib/python2.7/site-packages/dipy/reconst/csdeconv.py:588: UserWarning: maximum number of iterations exceeded - failed to converge\n",
      "  warnings.warn(msg)\n",
      "/autofs/space/tinia_001/users/chiara/anaconda2/lib/python2.7/site-packages/dipy/reconst/csdeconv.py:588: UserWarning: maximum number of iterations exceeded - failed to converge\n",
      "  warnings.warn(msg)\n",
      "/autofs/space/tinia_001/users/chiara/anaconda2/lib/python2.7/site-packages/dipy/reconst/csdeconv.py:588: UserWarning: maximum number of iterations exceeded - failed to converge\n",
      "  warnings.warn(msg)\n",
      "/autofs/space/tinia_001/users/chiara/anaconda2/lib/python2.7/site-packages/dipy/reconst/csdeconv.py:588: UserWarning: maximum number of iterations exceeded - failed to converge\n",
      "  warnings.warn(msg)\n",
      "/autofs/space/tinia_001/users/chiara/anaconda2/lib/python2.7/site-packages/dipy/reconst/csdeconv.py:588: UserWarning: maximum number of iterations exceeded - failed to converge\n",
      "  warnings.warn(msg)\n",
      "/autofs/space/tinia_001/users/chiara/anaconda2/lib/python2.7/site-packages/dipy/reconst/csdeconv.py:588: UserWarning: maximum number of iterations exceeded - failed to converge\n",
      "  warnings.warn(msg)\n",
      "/autofs/space/tinia_001/users/chiara/anaconda2/lib/python2.7/site-packages/dipy/reconst/csdeconv.py:588: UserWarning: maximum number of iterations exceeded - failed to converge\n",
      "  warnings.warn(msg)\n",
      "/autofs/space/tinia_001/users/chiara/anaconda2/lib/python2.7/site-packages/dipy/reconst/csdeconv.py:588: UserWarning: maximum number of iterations exceeded - failed to converge\n",
      "  warnings.warn(msg)\n",
      "/autofs/space/tinia_001/users/chiara/anaconda2/lib/python2.7/site-packages/dipy/reconst/csdeconv.py:588: UserWarning: maximum number of iterations exceeded - failed to converge\n",
      "  warnings.warn(msg)\n",
      "/autofs/space/tinia_001/users/chiara/anaconda2/lib/python2.7/site-packages/dipy/reconst/csdeconv.py:588: UserWarning: maximum number of iterations exceeded - failed to converge\n",
      "  warnings.warn(msg)\n",
      "/autofs/space/tinia_001/users/chiara/anaconda2/lib/python2.7/site-packages/dipy/reconst/csdeconv.py:588: UserWarning: maximum number of iterations exceeded - failed to converge\n",
      "  warnings.warn(msg)\n",
      "/autofs/space/tinia_001/users/chiara/anaconda2/lib/python2.7/site-packages/dipy/reconst/csdeconv.py:588: UserWarning: maximum number of iterations exceeded - failed to converge\n",
      "  warnings.warn(msg)\n",
      "/autofs/space/tinia_001/users/chiara/anaconda2/lib/python2.7/site-packages/dipy/reconst/csdeconv.py:588: UserWarning: maximum number of iterations exceeded - failed to converge\n",
      "  warnings.warn(msg)\n",
      "/autofs/space/tinia_001/users/chiara/anaconda2/lib/python2.7/site-packages/dipy/reconst/csdeconv.py:588: UserWarning: maximum number of iterations exceeded - failed to converge\n",
      "  warnings.warn(msg)\n",
      "/autofs/space/tinia_001/users/chiara/anaconda2/lib/python2.7/site-packages/dipy/reconst/csdeconv.py:588: UserWarning: maximum number of iterations exceeded - failed to converge\n",
      "  warnings.warn(msg)\n",
      "/autofs/space/tinia_001/users/chiara/anaconda2/lib/python2.7/site-packages/dipy/reconst/csdeconv.py:588: UserWarning: maximum number of iterations exceeded - failed to converge\n",
      "  warnings.warn(msg)\n",
      "/autofs/space/tinia_001/users/chiara/anaconda2/lib/python2.7/site-packages/dipy/reconst/csdeconv.py:588: UserWarning: maximum number of iterations exceeded - failed to converge\n",
      "  warnings.warn(msg)\n",
      "/autofs/space/tinia_001/users/chiara/anaconda2/lib/python2.7/site-packages/dipy/reconst/csdeconv.py:588: UserWarning: maximum number of iterations exceeded - failed to converge\n",
      "  warnings.warn(msg)\n",
      "/autofs/space/tinia_001/users/chiara/anaconda2/lib/python2.7/site-packages/dipy/reconst/csdeconv.py:588: UserWarning: maximum number of iterations exceeded - failed to converge\n",
      "  warnings.warn(msg)\n",
      "/autofs/space/tinia_001/users/chiara/anaconda2/lib/python2.7/site-packages/dipy/reconst/csdeconv.py:588: UserWarning: maximum number of iterations exceeded - failed to converge\n",
      "  warnings.warn(msg)\n",
      "/autofs/space/tinia_001/users/chiara/anaconda2/lib/python2.7/site-packages/dipy/reconst/csdeconv.py:588: UserWarning: maximum number of iterations exceeded - failed to converge\n",
      "  warnings.warn(msg)\n",
      "/autofs/space/tinia_001/users/chiara/anaconda2/lib/python2.7/site-packages/dipy/reconst/csdeconv.py:588: UserWarning: maximum number of iterations exceeded - failed to converge\n",
      "  warnings.warn(msg)\n",
      "/autofs/space/tinia_001/users/chiara/anaconda2/lib/python2.7/site-packages/dipy/reconst/csdeconv.py:588: UserWarning: maximum number of iterations exceeded - failed to converge\n",
      "  warnings.warn(msg)\n",
      "/autofs/space/tinia_001/users/chiara/anaconda2/lib/python2.7/site-packages/dipy/reconst/csdeconv.py:588: UserWarning: maximum number of iterations exceeded - failed to converge\n",
      "  warnings.warn(msg)\n",
      "/autofs/space/tinia_001/users/chiara/anaconda2/lib/python2.7/site-packages/dipy/reconst/csdeconv.py:588: UserWarning: maximum number of iterations exceeded - failed to converge\n",
      "  warnings.warn(msg)\n",
      "/autofs/space/tinia_001/users/chiara/anaconda2/lib/python2.7/site-packages/dipy/reconst/csdeconv.py:588: UserWarning: maximum number of iterations exceeded - failed to converge\n",
      "  warnings.warn(msg)\n",
      "/autofs/space/tinia_001/users/chiara/anaconda2/lib/python2.7/site-packages/dipy/reconst/csdeconv.py:588: UserWarning: maximum number of iterations exceeded - failed to converge\n",
      "  warnings.warn(msg)\n",
      "/autofs/space/tinia_001/users/chiara/anaconda2/lib/python2.7/site-packages/dipy/reconst/csdeconv.py:588: UserWarning: maximum number of iterations exceeded - failed to converge\n",
      "  warnings.warn(msg)\n",
      "/autofs/space/tinia_001/users/chiara/anaconda2/lib/python2.7/site-packages/dipy/reconst/csdeconv.py:588: UserWarning: maximum number of iterations exceeded - failed to converge\n",
      "  warnings.warn(msg)\n",
      "/autofs/space/tinia_001/users/chiara/anaconda2/lib/python2.7/site-packages/dipy/reconst/csdeconv.py:588: UserWarning: maximum number of iterations exceeded - failed to converge\n",
      "  warnings.warn(msg)\n",
      "/autofs/space/tinia_001/users/chiara/anaconda2/lib/python2.7/site-packages/dipy/reconst/csdeconv.py:588: UserWarning: maximum number of iterations exceeded - failed to converge\n",
      "  warnings.warn(msg)\n",
      "/autofs/space/tinia_001/users/chiara/anaconda2/lib/python2.7/site-packages/dipy/reconst/csdeconv.py:588: UserWarning: maximum number of iterations exceeded - failed to converge\n",
      "  warnings.warn(msg)\n",
      "/autofs/space/tinia_001/users/chiara/anaconda2/lib/python2.7/site-packages/dipy/reconst/csdeconv.py:588: UserWarning: maximum number of iterations exceeded - failed to converge\n",
      "  warnings.warn(msg)\n",
      "/autofs/space/tinia_001/users/chiara/anaconda2/lib/python2.7/site-packages/dipy/reconst/csdeconv.py:588: UserWarning: maximum number of iterations exceeded - failed to converge\n",
      "  warnings.warn(msg)\n"
     ]
    }
   ],
   "source": [
    "#set sub\n",
    "sub='I43'\n",
    "\n",
    "# Import DWI data, bvec, bval, and binary mask\n",
    "fimg =  (str(sub)+'/dwi.nii.gz')\n",
    "img = nib.load(fimg)\n",
    "data = img.get_data()\n",
    "print(\"Data Shape: \" + str(data.shape))\n",
    "affine = img.affine #no need to store the affine tho. \n",
    "\n",
    "# # #Bval and bvec file information import\n",
    "fbval= (str(sub)+'/bvals')\n",
    "fbvec = (str(sub)+\"/bvecs\")\n",
    "bvals, bvecs = read_bvals_bvecs(fbval, fbvec)\n",
    "gtab = gradient_table(bvals,bvecs)\n",
    "#Read the voxel size from the image header.\n",
    "voxel_size = img.header.get_zooms()[:3]\n",
    "print ('Voxel Size: ' + str(voxel_size))\n",
    "\n",
    "#mask\n",
    "fimg =  (str(sub)+'/mask.nii.gz')\n",
    "img = nib.load(fimg)\n",
    "mask = img.get_data()\n",
    "\n",
    "data_small=data[104:172, 150:200, 78:84]\n",
    "nib.save(nib.Nifti1Image(data_small.astype('float32'), img.affine, img.header), 'data_small.nii.gz')\n",
    "\n",
    "#flipping bvecs\n",
    "bvecs[:,0] *= -1\n",
    "gtab = gradient_table(bvals,bvecs)\n",
    "\n",
    "#mask\n",
    "fimg =  (str(sub)+'/cc_mask.nii')\n",
    "img = nib.load(fimg)\n",
    "wm_mask = img.get_data()\n",
    "wm_mask= wm_mask > 0.01\n",
    "sphere = get_sphere('symmetric724')\n",
    "\n",
    "\n",
    "fa_init  = [0.05, 0.06, 0.1, 0.2]\n",
    "peak_thr = [0.05, 0.1]\n",
    "\n",
    "for init in fa_init:\n",
    "        for pr in peak_thr:\n",
    "            response = recursive_response(gtab, data, mask=wm_mask, sh_order=8,\n",
    "                              peak_thr=pr, init_fa=init,\n",
    "                              init_trace=0.0021, iter=20, convergence=0.001, \n",
    "                              parallel=True, nbr_processes=4)\n",
    "\n",
    "            #check the shape of the signal of the response function, which should be like a pancake:\n",
    "            response_signal = response.on_sphere(sphere)\n",
    "            # transform our data from 1D to 4D\n",
    "            response_signal = response_signal[None, None, None, :]\n",
    "            response_actor = actor.odf_slicer(\n",
    "            response_signal, sphere=sphere, colormap='plasma')\n",
    "            interactive = False\n",
    "            ren = window.Renderer()\n",
    "            ren.add(response_actor)\n",
    "            window.record(ren, out_path=str(sub)+'/rf_'+str(init)+'_'+str(pr)+'.png', size=(200, 200))\n",
    "            if interactive:\n",
    "                window.show(ren)\n",
    "            #computing fods\n",
    "            csd_model = ConstrainedSphericalDeconvModel(gtab, response, sh_order=8)\n",
    "            csd_peaks = peaks_from_model(model=csd_model,\n",
    "                             data=data_small,\n",
    "                             sphere=sphere,\n",
    "                             relative_peak_threshold=.5,\n",
    "                             min_separation_angle=25,\n",
    "                             return_odf=True, return_sh=True)\n",
    "            #save odf\n",
    "            nib.save(nib.Nifti1Image(csd_peaks.shm_coeff.astype(np.float32),\n",
    "                                  img.affine, img.header), str(sub)+'/odfs_'+str(init)+'_'+str(pr)+'.nii.gz')"
   ]
  },
  {
   "cell_type": "code",
   "execution_count": null,
   "metadata": {},
   "outputs": [],
   "source": [
    "data_small=data[10:96, 100:201, 100:174]\n",
    "data_small.shape\n",
    "first_vol = data_small[:, :, :, 0]\n",
    "plt.imshow(first_vol[:, 36, :], cmap='gray')\n",
    "plt.show()"
   ]
  },
  {
   "cell_type": "code",
   "execution_count": null,
   "metadata": {},
   "outputs": [],
   "source": [
    "csd_model = ConstrainedSphericalDeconvModel(gtab, response, sh_order=6)\n",
    "sphere = get_sphere('symmetric724')\n",
    "csd_peaks = peaks_from_model(model=csd_model,\n",
    "                             data=data,\n",
    "                             sphere=sphere,\n",
    "                             relative_peak_threshold=.5,\n",
    "                             min_separation_angle=25,\n",
    "                             return_odf=True, return_sh=True)\n"
   ]
  },
  {
   "cell_type": "code",
   "execution_count": null,
   "metadata": {
    "collapsed": true
   },
   "outputs": [],
   "source": [
    "#save odf\n",
    "nib.save(nib.Nifti1Image(csd_peaks.shm_coeff.astype(np.float32),\n",
    "                                  img.affine, img.header), 'odfs_recursive_csd.nii.gz')\n",
    "\n"
   ]
  },
  {
   "cell_type": "code",
   "execution_count": null,
   "metadata": {},
   "outputs": [],
   "source": [
    "#loading odfs\n",
    "sphere = get_sphere('symmetric724')\n",
    "fimg = (\"odfs_recursive_csd.nii.gz\")\n",
    "img = nib.load(fimg)\n",
    "odfs = img.get_data()\n",
    "odfs = sh_to_sf(odfs, sphere, sh_order=8)"
   ]
  },
  {
   "cell_type": "code",
   "execution_count": null,
   "metadata": {},
   "outputs": [],
   "source": [
    "#Enables/disables interactive visualization\n",
    "sphere = get_sphere('symmetric724')\n",
    "ren = window.Renderer()\n",
    "interactive = True\n",
    "fodf_spheres = actor.odf_slicer(odfs, sphere=sphere, scale=0.6, norm=False, colormap='jet')\n",
    "fodf_spheres.display_extent(70, 70, 0, 256, 0, 192)\n",
    "seedroi_actor = actor.contour_from_roi(slf_mask,\n",
    "                                        color=[0,1,1], opacity=0.3)\n",
    "\n",
    "# ren.set_camera(position=(10, 0, 0))\n",
    "ren.add(fodf_spheres)\n",
    "ren.add(seedroi_actor)\n",
    "print('Saving illustration as csd_odfs.png')\n",
    "window.record(ren, out_path='csd_fods.png', size=(600, 600))\n",
    "if interactive:\n",
    "    window.show(ren)"
   ]
  },
  {
   "cell_type": "code",
   "execution_count": null,
   "metadata": {},
   "outputs": [],
   "source": [
    "slf_mask=(\"slfI_approx_roi.nii\")\n",
    "img = nib.load(slf_mask)\n",
    "slf_mask = img.get_data()"
   ]
  },
  {
   "cell_type": "code",
   "execution_count": null,
   "metadata": {
    "collapsed": true
   },
   "outputs": [],
   "source": [
    "tissue_classifier = ThresholdTissueClassifier(FA, 0.2)\n",
    "seeds = random_seeds_from_mask(FA > 0.3, seeds_count=5)"
   ]
  },
  {
   "cell_type": "code",
   "execution_count": null,
   "metadata": {
    "collapsed": true
   },
   "outputs": [],
   "source": [
    "prob_dg = ProbabilisticDirectionGetter.from_shcoeff(csd_peaks.shm_coeff, max_angle=20, sphere=sphere)\n"
   ]
  },
  {
   "cell_type": "code",
   "execution_count": null,
   "metadata": {
    "collapsed": true
   },
   "outputs": [],
   "source": [
    "all_streamlines_act_classifier = LocalTracking(prob_dg,\n",
    "                                               tissue_classifier,\n",
    "                                               seeds, \n",
    "                                               affine=np.eye(4), step_size=0.35,\n",
    "                                               return_all=True)\n",
    "streamlines = Streamlines(all_streamlines_act_classifier)\n",
    "save_trk(\"csd_recursive_prob_cmc_npv5_20_0.35.trk\",\n",
    "         streamlines,\n",
    "         img.affine,\n",
    "         shape=img.shape[:3], vox_size=img.header.get_zooms()[:3])"
   ]
  },
  {
   "cell_type": "markdown",
   "metadata": {},
   "source": [
    "    ### Block Analysis"
   ]
  },
  {
   "cell_type": "code",
   "execution_count": 30,
   "metadata": {},
   "outputs": [
    {
     "name": "stdout",
     "output_type": "stream",
     "text": [
      "Data Shape: (112, 96, 96, 251)\n",
      "Voxel Size: (0.34999999, 0.34999999, 0.34999999)\n"
     ]
    }
   ],
   "source": [
    "# Import DWI data, bvec, bval, and binary mask\n",
    "fimg =  ('block_I35/dwi_las.nii')\n",
    "img = nib.load(fimg)\n",
    "data = img.get_data()\n",
    "print(\"Data Shape: \" + str(data.shape))\n",
    "affine = img.affine #no need to store the affine tho. \n",
    "\n",
    "#Bval and bvec file information import\n",
    "fbval= ('block_I35/bvals')\n",
    "fbvec = (\"block_I35/bvecs\")\n",
    "bvals, bvecs = read_bvals_bvecs(fbval, fbvec)\n",
    "gtab = gradient_table(bvals,bvecs)\n",
    "#Read the voxel size from the image header.\n",
    "voxel_size = img.header.get_zooms()[:3]\n",
    "print ('Voxel Size: ' + str(voxel_size))"
   ]
  },
  {
   "cell_type": "code",
   "execution_count": 4,
   "metadata": {
    "collapsed": true
   },
   "outputs": [],
   "source": [
    "sphere = get_sphere('symmetric724')"
   ]
  },
  {
   "cell_type": "code",
   "execution_count": 27,
   "metadata": {
    "collapsed": true
   },
   "outputs": [],
   "source": [
    "#Fit the tensor model to data\n",
    "tenmodel = dti.TensorModel(gtab)\n",
    "tenfit = tenmodel.fit(data)"
   ]
  },
  {
   "cell_type": "code",
   "execution_count": 32,
   "metadata": {},
   "outputs": [],
   "source": [
    "from dipy.data import get_sphere\n",
    "sphere = get_sphere('symmetric724')\n",
    "\n",
    "# Enables/disables interactive visualization\n",
    "interactive = True\n",
    "\n",
    "# ren = window.Renderer()\n",
    "\n",
    "# evals = tenfit.evals[:, :, 40:41]\n",
    "# evecs = tenfit.evecs[:, :, 40:41]\n",
    "FA = fractional_anisotropy(tenfit.evals)\n",
    "save_nifti('fa.nii.gz', FA.astype(\"uint8\"), img.affine)\n",
    "\n",
    "RGB = color_fa(FA, tenfit.evecs)\n",
    "save_nifti('rgb.nii.gz', RGB.astype(\"uint8\"), img.affine)\n",
    "\n",
    "# cfa = RGB[:, :, 40:41]\n",
    "# cfa /= cfa.max()\n",
    "# tensor_actor = actor.tensor_slicer(evals, evecs, scalar_colors=cfa, sphere=sphere, scale=0.3)\n",
    "# ren.add(tensor_actor)\n",
    "# if interactive:\n",
    "#     window.show(ren)"
   ]
  },
  {
   "cell_type": "code",
   "execution_count": 8,
   "metadata": {},
   "outputs": [],
   "source": [
    "img =(\"block_I35/wm_bin.nii.gz\")\n",
    "imgm = nib.load(img)\n",
    "seed_mask = imgm.get_data()\n",
    "seeds = random_seeds_from_mask(seed_mask, seeds_count=1)\n",
    "\n",
    "img=(\"block_I35/dti_las_fa.nii\")\n",
    "imgm = nib.load(img)\n",
    "fa = imgm.get_data()\n",
    "tissue_classifier = ThresholdTissueClassifier(fa, 0.5)"
   ]
  },
  {
   "cell_type": "code",
   "execution_count": 20,
   "metadata": {
    "collapsed": true
   },
   "outputs": [],
   "source": [
    "data_small=data[40:80, 28:68, 28:68]\n",
    "mask_small=seed_mask[40:80, 28:68, 28:68]"
   ]
  },
  {
   "cell_type": "code",
   "execution_count": 41,
   "metadata": {},
   "outputs": [],
   "source": [
    "l_values = np.sqrt(gtab.bvals * 0.01506)\n",
    "tmp=np.tile(l_values, (3,1))\n",
    "gradsT = gtab.bvecs.T\n",
    "b_vector = gradsT * tmp\n",
    "b_vector = b_vector.T\n",
    "gqi_vector = np.real(np.sinc(np.dot(b_vector, sphere.vertices.T)* 0.3/np.pi))\n",
    "odfs = np.dot(data, gqi_vector)"
   ]
  },
  {
   "cell_type": "code",
   "execution_count": 42,
   "metadata": {},
   "outputs": [],
   "source": [
    "#min/max normalization\n",
    "ijk = np.ascontiguousarray(np.array(np.nonzero(seed_mask)).T)\n",
    "shape = data.shape[:-1]\n",
    "odfs_norm = np.zeros ((shape + (len(sphere.vertices),)))\n",
    "\n",
    "for (k, center) in enumerate(ijk):\n",
    "    m = odfs[tuple(center.astype(np.int))].copy()\n",
    "    m = m - (np.abs(m).min())\n",
    "    m = m / (np.abs(m).max())\n",
    "    odfs_norm[tuple(center.astype(np.int))] = m"
   ]
  },
  {
   "cell_type": "code",
   "execution_count": null,
   "metadata": {
    "collapsed": true
   },
   "outputs": [],
   "source": [
    "npeaks = 3\n",
    "relative_peak_threshold=.5\n",
    "min_separation_angle=25\n",
    "shape=mask.shape    \n",
    "peak_dirs = np.zeros ((shape + (npeaks, 3)))\n",
    "peak_values = np.zeros ((shape + (npeaks,)))\n",
    "peak_indices = np.zeros((shape + (npeaks,)), dtype='int')\n",
    "\n",
    "odfs_norm =odfs_gqi.astype(float)\n",
    "\n",
    "for idx in ndindex(shape):\n",
    "    if not mask[idx]:\n",
    "        continue\n",
    "    direction, pk, indices = peak_directions(odfs_norm[idx], sphere642, relative_peak_threshold, min_separation_angle)\n",
    "    n = min(npeaks, pk.shape[0])\n",
    "    \n",
    "    peak_dirs[idx][:n] = direction[:n]\n",
    "    peak_values[idx][:n] = pk[:n]\n",
    "    peak_indices[idx][:n] = indices[:n]\n",
    "    nib.save(nib.Nifti1Image(reshape_peaks_for_visualization(peak_dirs),\n",
    "                                     img.affine),os.path.join(sub, 'peaks)gqi.nii.gz'))"
   ]
  },
  {
   "cell_type": "code",
   "execution_count": 43,
   "metadata": {},
   "outputs": [],
   "source": [
    "nib.save(nib.Nifti1Image(odfs_norm.astype(np.float32),\n",
    "                                  imgm.affine, imgm.header), 'block_I35/odfs_gqi_l03.nii.gz')\n"
   ]
  },
  {
   "cell_type": "code",
   "execution_count": 36,
   "metadata": {},
   "outputs": [],
   "source": [
    "interactive = True\n",
    "r = window.Renderer()\n",
    "gqi_odfs_actor = actor.odf_slicer(odfs_norm, sphere=sphere, scale=0.6, norm=True, colormap= 'jet')\n",
    "gqi_odfs_actor.display_extent(60, 60, 0, 96, 0, 96)                                    \n",
    "r.set_camera(position=(10, 0, 0))\n",
    "r.add(gqi_odfs_actor)\n",
    "if interactive:\n",
    "    window.show(r)"
   ]
  },
  {
   "cell_type": "code",
   "execution_count": null,
   "metadata": {},
   "outputs": [],
   "source": [
    "img =(\"block_I35/wm_bin.nii.gz\")\n",
    "imgm = nib.load(img)\n",
    "seed_mask = imgm.get_data()\n",
    "seeds = random_seeds_from_mask(seed_mask, seeds_count=5)\n",
    "\n",
    "img=(\"block_I35/dti_las_fa.nii\")\n",
    "imgm = nib.load(img)\n",
    "fa = imgm.get_data()\n",
    "tissue_classifier = ThresholdTissueClassifier(fa, 0.5)\n",
    "pmf = odfs_norm.clip(min=0)\n",
    "prob_dg = ProbabilisticDirectionGetter.from_pmf(pmf, max_angle=20, sphere=sphere, pmf_threshold=0.5)\n",
    "\n",
    "all_streamlines = LocalTracking(prob_dg, tissue_classifier,\n",
    "                                               seeds, \n",
    "                                               affine=np.eye(4), step_size=0.175,\n",
    "                                               return_all=True)\n",
    "\n",
    "streamlines = Streamlines(all_streamlines)\n",
    "save_trk(\"block_I35/gqi_prob_npv5_20_0175_pmf05_l03.trk\",\n",
    "         streamlines,\n",
    "         imgm.affine,\n",
    "         shape=imgm.shape[:3], vox_size=imgm.header.get_zooms()[:3])"
   ]
  }
 ],
 "metadata": {
  "kernelspec": {
   "display_name": "Python 2",
   "language": "python",
   "name": "python2"
  },
  "language_info": {
   "codemirror_mode": {
    "name": "ipython",
    "version": 2
   },
   "file_extension": ".py",
   "mimetype": "text/x-python",
   "name": "python",
   "nbconvert_exporter": "python",
   "pygments_lexer": "ipython2",
   "version": "2.7.16"
  }
 },
 "nbformat": 4,
 "nbformat_minor": 2
}
