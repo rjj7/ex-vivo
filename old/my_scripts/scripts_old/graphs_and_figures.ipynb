{
 "cells": [
  {
   "cell_type": "code",
   "execution_count": 217,
   "metadata": {
    "collapsed": true
   },
   "outputs": [],
   "source": [
    "import glob\n",
    "import numpy as np\n",
    "import nibabel as nib\n",
    "import matplotlib.pyplot as plt\n",
    "import os\n",
    "import pandas as pd"
   ]
  },
  {
   "cell_type": "code",
   "execution_count": 2,
   "metadata": {
    "collapsed": true
   },
   "outputs": [],
   "source": [
    "os.chdir('/space/hemera/1/users/cmaffei/hcp_processing/1k_tracula')\n",
    "wd = '/space/hemera/1/users/cmaffei/hcp_processing/1k_tracula'"
   ]
  },
  {
   "cell_type": "code",
   "execution_count": 230,
   "metadata": {
    "collapsed": true
   },
   "outputs": [
    {
     "name": "stdout",
     "output_type": "stream",
     "text": [
      "tmp.mgh_1001\n",
      "tmp.mgh_1006\n",
      "tmp.mgh_1007\n",
      "tmp.mgh_1008\n",
      "tmp.mgh_1009\n",
      "tmp.mgh_1010\n",
      "tmp.mgh_1011\n",
      "tmp.mgh_1012\n",
      "tmp.mgh_1013\n",
      "tmp.mgh_1015\n",
      "tmp.mgh_1016\n",
      "tmp.mgh_1017\n",
      "tmp.mgh_1019\n",
      "tmp.mgh_1021\n",
      "tmp.mgh_1023\n",
      "tmp.mgh_1001\n",
      "tmp.mgh_1006\n",
      "tmp.mgh_1007\n",
      "tmp.mgh_1008\n",
      "tmp.mgh_1009\n",
      "tmp.mgh_1010\n",
      "tmp.mgh_1011\n",
      "tmp.mgh_1012\n",
      "tmp.mgh_1013\n",
      "tmp.mgh_1015\n",
      "tmp.mgh_1016\n",
      "tmp.mgh_1017\n",
      "tmp.mgh_1019\n",
      "tmp.mgh_1021\n",
      "tmp.mgh_1023\n",
      "tmp.mgh_1001\n",
      "tmp.mgh_1006\n",
      "tmp.mgh_1007\n",
      "tmp.mgh_1008\n",
      "tmp.mgh_1009\n",
      "tmp.mgh_1010\n",
      "tmp.mgh_1011\n",
      "tmp.mgh_1012\n",
      "tmp.mgh_1013\n",
      "tmp.mgh_1015\n",
      "tmp.mgh_1016\n",
      "tmp.mgh_1017\n",
      "tmp.mgh_1019\n",
      "tmp.mgh_1021\n",
      "tmp.mgh_1023\n"
     ]
    }
   ],
   "source": [
    "#bar graph mean and sd of the distance over the 15 subjects for bundle for method \n",
    "#box plots \n",
    "\n",
    "tracts = ['slf1', 'slf2', 'slf3']\n",
    "thrs = ['unthr', 'thr.005','thr.05', 'thr.1', 'thr.15', 'thr.2']\n",
    "\n",
    "#merging overlap and sitance meaures in txt files\n",
    "for tract in tracts:\n",
    "    accuracy_autoptx = ([])\n",
    "    accuracy_autoptx_unthr = ([])\n",
    "    for thr in thrs:\n",
    "            accuracy_tracula = ([])\n",
    "        for sub in sorted(glob.glob('tmp.mgh_*')):\n",
    "                print str(sub)\n",
    "                acc_tracula = np.loadtxt(os.path.join(sub, str(tract)+'_accuracy_'+thr+'.txt'))\n",
    "                acc_autoptx = np.loadtxt(os.path.join(sub, str(tract)+'_accuracy_autoptx.txt'))\n",
    "                acc_autoptx_unthr = np.loadtxt(os.path.join(sub, str(tract)+'_accuracy_autoptx_unthr.txt'))\n",
    "                accuracy_autoptx = np.append(accuracy_autoptx, acc_autoptx)\n",
    "                accuracy_autoptx_unthr = np.append(accuracy_autoptx_unthr, acc_autoptx_unthr)\n",
    "                accuracy_tracula = np.append(accuracy_tracula, acc_tracula)\n",
    "\n",
    "            np.savetxt('accuracy_tracula'+str(tract)+str(thr)+'.txt', accuracy_tracula)\n",
    "            np.savetxt('accuracy_autoptx'+str(tract)+'.txt', accuracy_autoptx)    \n",
    "            np.savetxt('accuracy_autoptx_unthr'+str(tract)+'.txt', accuracy_autoptx_unthr)\n",
    "        \n",
    "        \n",
    "        \n",
    "for tract in tracts:\n",
    "    jacard_autoptx = ([])\n",
    "    jacard_autoptx_unthr = ([])\n",
    "    dice_autoptx = ([])\n",
    "    for thr in thrs:\n",
    "        jacard_tracula = ([])\n",
    "        dice_tracula = ([])\n",
    "        for sub in sorted(glob.glob('tmp.mgh_*')):\n",
    "            print str(sub)\n",
    "            overlap_tracula = np.loadtxt(os.path.join(sub, str(tract)+'_overlap_'+thr+'.txt'))\n",
    "            overlap_autoptx = np.loadtxt(os.path.join(sub, str(tract)+'_overlap_autoptx'))\n",
    "            overlap_autoptx_unthr = np.loadtxt(os.path.join(sub, str(tract)+'_overlap_autoptx_unthr'))\n",
    "            jacard_autoptx = np.append(jacard_autoptx, overlap_autoptx[3])\n",
    "            jacard_autoptx_unthr = np.append(jacard_autoptx_unthr, overlap_autoptx_unthr[3])           \n",
    "            dice_autoptx = np.append(dice_autoptx, overlap_autoptx[2])\n",
    "            jacard_tracula = np.append(jacard_tracula, overlap_tracula[3])\n",
    "            dice_tracula = np.append(jacard_tracula, overlap_tracula[2])\n",
    "        np.savetxt('dice_tracula'+str(tract)+str(thr)+'.txt', dice_tracula)\n",
    "        np.savetxt('dice_autoptx'+str(tract)+'.txt', dice_autoptx)  \n",
    "        np.savetxt('jacard_tracula'+str(tract)+str(thr)+'.txt', jacard_tracula)\n",
    "        np.savetxt('jacard_autoptx'+str(tract)+'.txt', jacard_autoptx)  \n",
    "        np.savetxt('jacard_autoptx_unthr'+str(tract)+'.txt', jacard_autoptx_unthr)                "
   ]
  },
  {
   "cell_type": "code",
   "execution_count": 142,
   "metadata": {},
   "outputs": [],
   "source": [
    "acc_ptx_slf1 = np.loadtxt('accuracy_autoptxslf1.txt')\n",
    "acc_ptx_slf2 = np.loadtxt('accuracy_autoptxslf2.txt')\n",
    "acc_ptx_slf3 = np.loadtxt('accuracy_autoptxslf3.txt')\n",
    "\n",
    "acc_ptx_slf1_unthr = np.loadtxt('accuracy_autoptx_unthrslf1.txt')\n",
    "acc_ptx_slf2_unthr = np.loadtxt('accuracy_autoptx_unthrslf2.txt')\n",
    "acc_ptx_slf3_unthr = np.loadtxt('accuracy_autoptx_unthrslf3.txt')\n",
    "\n",
    "acc20_tra_slf1 = np.loadtxt('accuracy_traculaslf1thr.2.txt')\n",
    "acc20_tra_slf2 = np.loadtxt('accuracy_traculaslf2thr.2.txt')\n",
    "acc20_tra_slf3 = np.loadtxt('accuracy_traculaslf3thr.2.txt')\n",
    "\n",
    "acc10_tra_slf1 = np.loadtxt('accuracy_traculaslf1thr.1.txt')\n",
    "acc10_tra_slf2 = np.loadtxt('accuracy_traculaslf2thr.1.txt')\n",
    "acc10_tra_slf3 = np.loadtxt('accuracy_traculaslf3thr.1.txt')\n",
    "\n",
    "acc15_tra_slf1 = np.loadtxt('accuracy_traculaslf1thr.15.txt')\n",
    "acc15_tra_slf2 = np.loadtxt('accuracy_traculaslf2thr.15.txt')\n",
    "acc15_tra_slf3 = np.loadtxt('accuracy_traculaslf3thr.15.txt')\n",
    "\n",
    "acc0_tra_slf1 = np.loadtxt('accuracy_traculaslf1unthr.txt')\n",
    "acc0_tra_slf2 = np.loadtxt('accuracy_traculaslf2unthr.txt')\n",
    "acc0_tra_slf3 = np.loadtxt('accuracy_traculaslf3unthr.txt')\n",
    "\n",
    "acc05_tra_slf1 = np.loadtxt('accuracy_traculaslf1thr.05.txt')\n",
    "acc05_tra_slf2 = np.loadtxt('accuracy_traculaslf2thr.05.txt')\n",
    "acc05_tra_slf3 = np.loadtxt('accuracy_traculaslf3thr.05.txt')\n",
    "acc005_tra_slf1 = np.loadtxt('accuracy_traculaslf1thr.005.txt')\n",
    "acc005_tra_slf2 = np.loadtxt('accuracy_traculaslf2thr.005.txt')\n",
    "acc005_tra_slf3 = np.loadtxt('accuracy_traculaslf3thr.005.txt')\n",
    "\n",
    "ptx_mean = [np.mean(acc_ptx_slf1), np.mean(acc_ptx_slf2), np.mean(acc_ptx_slf3)]\n",
    "ptx_sd = [np.std(acc_ptx_slf1), np.std(acc_ptx_slf2), np.std(acc_ptx_slf3)]\n",
    "ptx_median = [np.median(acc_ptx_slf1), np.median(acc_ptx_slf2), np.median(acc_ptx_slf3)]\n",
    "\n",
    "ptx_mean_unthr = [np.mean(acc_ptx_slf1_unthr), np.mean(acc_ptx_slf2_unthr), np.mean(acc_ptx_slf3_unthr)]\n",
    "ptx_sd_unthr = [np.std(acc_ptx_slf1_unthr), np.std(acc_ptx_slf2_unthr), np.std(acc_ptx_slf3_unthr)]\n",
    "ptx_median_unthr = [np.median(acc_ptx_slf1_unthr), np.median(acc_ptx_slf2_unthr), np.median(acc_ptx_slf3_unthr)]\n",
    "\n",
    "tra20_mean = [np.mean(acc20_tra_slf1), np.mean(acc20_tra_slf2), np.mean(acc20_tra_slf3)]\n",
    "tra20_sd = [np.std(acc20_tra_slf1), np.std(acc20_tra_slf2), np.std(acc20_tra_slf3)]\n",
    "tra20_median = [np.median(acc20_tra_slf1), np.median(acc20_tra_slf2), np.median(acc20_tra_slf3)]\n",
    "\n",
    "tra15_mean = [np.mean(acc15_tra_slf1), np.mean(acc15_tra_slf2), np.mean(acc15_tra_slf3)]\n",
    "tra15_sd = [np.std(acc15_tra_slf1), np.std(acc15_tra_slf2), np.std(acc15_tra_slf3)]\n",
    "tra15_median = [np.median(acc15_tra_slf1), np.median(acc15_tra_slf2), np.median(acc15_tra_slf3)]\n",
    "\n",
    "tra10_mean = [np.mean(acc10_tra_slf1), np.mean(acc10_tra_slf2), np.mean(acc10_tra_slf3)]\n",
    "tra10_sd = [np.std(acc10_tra_slf1), np.std(acc10_tra_slf2), np.std(acc10_tra_slf3)]\n",
    "tra10_median = [np.median(acc10_tra_slf1), np.median(acc10_tra_slf2), np.median(acc10_tra_slf3)]\n",
    "\n",
    "tra05_mean = [np.mean(acc05_tra_slf1), np.mean(acc05_tra_slf2), np.mean(acc05_tra_slf3)]\n",
    "tra05_sd = [np.std(acc05_tra_slf1), np.std(acc05_tra_slf2), np.std(acc05_tra_slf3)]\n",
    "tra05_median = [np.median(acc05_tra_slf1), np.median(acc05_tra_slf2), np.median(acc05_tra_slf3)]\n",
    "\n",
    "tra005_mean = [np.mean(acc005_tra_slf1), np.mean(acc005_tra_slf2), np.mean(acc005_tra_slf3)]\n",
    "tra005_sd = [np.std(acc005_tra_slf1), np.std(acc005_tra_slf2), np.std(acc005_tra_slf3)]\n",
    "tra005_median = [np.median(acc005_tra_slf1), np.median(acc005_tra_slf2), np.median(acc005_tra_slf3)]\n",
    "\n",
    "tra0_mean = [np.mean(acc0_tra_slf1), np.mean(acc0_tra_slf2), np.mean(acc0_tra_slf3)]\n",
    "tra0_sd = [np.std(acc0_tra_slf1), np.std(acc0_tra_slf2), np.std(acc0_tra_slf3)]\n",
    "tra0_median = [np.median(acc0_tra_slf1), np.median(acc0_tra_slf2), np.median(acc0_tra_slf3)]"
   ]
  },
  {
   "cell_type": "code",
   "execution_count": 100,
   "metadata": {
    "collapsed": true
   },
   "outputs": [],
   "source": [
    "dice_ptx_slf1 = np.loadtxt('dice_autoptxslf1.txt')\n",
    "dice_ptx_slf2 = np.loadtxt('dice_autoptxslf2.txt')\n",
    "dice_ptx_slf3 = np.loadtxt('dice_autoptxslf3.txt')\n",
    "\n",
    "dice20_tra_slf1 = np.loadtxt('dice_traculaslf1thr.2.txt')\n",
    "dice20_tra_slf2 = np.loadtxt('dice_traculaslf2thr.2.txt')\n",
    "dice20_tra_slf3 = np.loadtxt('dice_traculaslf3thr.2.txt')\n",
    "\n",
    "dice10_tra_slf1 = np.loadtxt('dice_traculaslf1thr.1.txt')\n",
    "dice10_tra_slf2 = np.loadtxt('dice_traculaslf2thr.1.txt')\n",
    "dice10_tra_slf3 = np.loadtxt('dice_traculaslf3thr.1.txt')\n",
    "\n",
    "dice15_tra_slf1 = np.loadtxt('dice_traculaslf1thr.15.txt')\n",
    "dice15_tra_slf2 = np.loadtxt('dice_traculaslf2thr.15.txt')\n",
    "dice15_tra_slf3 = np.loadtxt('dice_traculaslf3thr.15.txt')\n",
    "\n",
    "dice0_tra_slf1 = np.loadtxt('dice_traculaslf1unthr.txt')\n",
    "dice0_tra_slf2 = np.loadtxt('dice_traculaslf2unthr.txt')\n",
    "dice0_tra_slf3 = np.loadtxt('dice_traculaslf3unthr.txt')\n",
    "\n",
    "dice05_tra_slf1 = np.loadtxt('dice_traculaslf1thr.05.txt')\n",
    "dice05_tra_slf2 = np.loadtxt('dice_traculaslf2thr.05.txt')\n",
    "dice05_tra_slf3 = np.loadtxt('dice_traculaslf3thr.05.txt')\n",
    "dice005_tra_slf1 = np.loadtxt('dice_traculaslf1thr.005.txt')\n",
    "dice005_tra_slf2 = np.loadtxt('dice_traculaslf2thr.005.txt')\n",
    "dice005_tra_slf3 = np.loadtxt('dice_traculaslf3thr.005.txt')\n",
    "\n",
    "dice_ptx_mean = [np.mean(dice_ptx_slf1), np.mean(dice_ptx_slf2), np.mean(dice_ptx_slf3)]\n",
    "dice_ptx_sd = [np.std(dice_ptx_slf1), np.std(dice_ptx_slf2), np.std(dice_ptx_slf3)]\n",
    "dice_ptx_median = [np.median(dice_ptx_slf1), np.median(dice_ptx_slf2), np.median(dice_ptx_slf3)]\n",
    "\n",
    "dice_tra20_mean = [np.mean(dice20_tra_slf1), np.mean(dice20_tra_slf2), np.mean(dice20_tra_slf3)]\n",
    "dice_tra20_sd = [np.std(dice20_tra_slf1), np.std(dice20_tra_slf2), np.std(dice20_tra_slf3)]\n",
    "dice_tra20_median = [np.median(dice20_tra_slf1), np.median(dice20_tra_slf2), np.median(dice20_tra_slf3)]\n",
    "\n",
    "dice_tra15_mean = [np.mean(dice15_tra_slf1), np.mean(dice15_tra_slf2), np.mean(dice15_tra_slf3)]\n",
    "dice_tra15_sd = [np.std(dice15_tra_slf1), np.std(dice15_tra_slf2), np.std(dice15_tra_slf3)]\n",
    "dice_tra15_median = [np.median(dice15_tra_slf1), np.median(dice15_tra_slf2), np.median(dice15_tra_slf3)]\n",
    "\n",
    "dice_tra10_mean = [np.mean(dice10_tra_slf1), np.mean(dice10_tra_slf2), np.mean(dice10_tra_slf3)]\n",
    "dice_tra10_sd = [np.std(dice10_tra_slf1), np.std(dice10_tra_slf2), np.std(dice10_tra_slf3)]\n",
    "dice_tra10_median = [np.median(dice10_tra_slf1), np.median(dice10_tra_slf2), np.median(dice10_tra_slf3)]\n",
    "\n",
    "dice_tra05_mean = [np.mean(dice05_tra_slf1), np.mean(dice05_tra_slf2), np.mean(dice05_tra_slf3)]\n",
    "dice_tra05_sd = [np.std(dice05_tra_slf1), np.std(dice05_tra_slf2), np.std(dice05_tra_slf3)]\n",
    "dice_tra05_median = [np.median(dice05_tra_slf1), np.median(dice05_tra_slf2), np.median(dice05_tra_slf3)]\n",
    "\n",
    "dice_tra05_mean = [np.mean(dice005_tra_slf1), np.mean(dice005_tra_slf2), np.mean(dice005_tra_slf3)]\n",
    "dice_tra05_sd = [np.std(dice005_tra_slf1), np.std(dice005_tra_slf2), np.std(dice005_tra_slf3)]\n",
    "dice_tra05_median = [np.median(dice005_tra_slf1), np.median(dice005_tra_slf2), np.median(dice005_tra_slf3)]\n",
    "\n",
    "dice_tra0_mean = [np.mean(dice0_tra_slf1), np.mean(dice0_tra_slf2), np.mean(dice0_tra_slf3)]\n",
    "dice_tra0_sd = [np.std(dice0_tra_slf1), np.std(dice0_tra_slf2), np.std(dice0_tra_slf3)]\n",
    "dice_tra0_median = [np.median(dice0_tra_slf1), np.median(dice0_tra_slf2), np.median(dice0_tra_slf3)]"
   ]
  },
  {
   "cell_type": "code",
   "execution_count": 143,
   "metadata": {},
   "outputs": [],
   "source": [
    "jacard_ptx_slf1 = np.loadtxt('jacard_autoptxslf1.txt')\n",
    "jacard_ptx_slf2 = np.loadtxt('jacard_autoptxslf2.txt')\n",
    "jacard_ptx_slf3 = np.loadtxt('jacard_autoptxslf3.txt')\n",
    "\n",
    "jacard_ptx_slf1_unthr = np.loadtxt('jacard_autoptx_unthrslf1.txt')\n",
    "jacard_ptx_slf2_unthr = np.loadtxt('jacard_autoptx_unthrslf2.txt')\n",
    "jacard_ptx_slf3_unthr = np.loadtxt('jacard_autoptx_unthrslf3.txt')\n",
    "\n",
    "jacard20_tra_slf1 = np.loadtxt('jacard_traculaslf1thr.2.txt')\n",
    "jacard20_tra_slf2 = np.loadtxt('jacard_traculaslf2thr.2.txt')\n",
    "jacard20_tra_slf3 = np.loadtxt('jacard_traculaslf3thr.2.txt')\n",
    "\n",
    "jacard10_tra_slf1 = np.loadtxt('jacard_traculaslf1thr.1.txt')\n",
    "jacard10_tra_slf2 = np.loadtxt('jacard_traculaslf2thr.1.txt')\n",
    "jacard10_tra_slf3 = np.loadtxt('jacard_traculaslf3thr.1.txt')\n",
    "\n",
    "jacard15_tra_slf1 = np.loadtxt('jacard_traculaslf1thr.15.txt')\n",
    "jacard15_tra_slf2 = np.loadtxt('jacard_traculaslf2thr.15.txt')\n",
    "jacard15_tra_slf3 = np.loadtxt('jacard_traculaslf3thr.15.txt')\n",
    "\n",
    "jacard0_tra_slf1 = np.loadtxt('jacard_traculaslf1unthr.txt')\n",
    "jacard0_tra_slf2 = np.loadtxt('jacard_traculaslf2unthr.txt')\n",
    "jacard0_tra_slf3 = np.loadtxt('jacard_traculaslf3unthr.txt')\n",
    "\n",
    "jacard05_tra_slf1 = np.loadtxt('jacard_traculaslf1thr.05.txt')\n",
    "jacard05_tra_slf2 = np.loadtxt('jacard_traculaslf2thr.05.txt')\n",
    "jacard05_tra_slf3 = np.loadtxt('jacard_traculaslf3thr.05.txt')\n",
    "\n",
    "jacard005_tra_slf1 = np.loadtxt('jacard_traculaslf1thr.005.txt')\n",
    "jacard005_tra_slf2 = np.loadtxt('jacard_traculaslf2thr.005.txt')\n",
    "jacard005_tra_slf3 = np.loadtxt('jacard_traculaslf3thr.005.txt')\n",
    "\n",
    "jacard_ptx_mean = [np.mean(jacard_ptx_slf1), np.mean(jacard_ptx_slf2), np.mean(jacard_ptx_slf3)]\n",
    "jacard_ptx_sd = [np.std(jacard_ptx_slf1), np.std(jacard_ptx_slf2), np.std(jacard_ptx_slf3)]\n",
    "jacard_ptx_median = [np.median(jacard_ptx_slf1), np.median(jacard_ptx_slf2), np.median(jacard_ptx_slf3)]\n",
    "\n",
    "jacard_ptx_mean_unthr = [np.mean(jacard_ptx_slf1_unthr), np.mean(jacard_ptx_slf2_unthr), np.mean(jacard_ptx_slf3_unthr)]\n",
    "jacard_ptx_sd_unthr = [np.std(jacard_ptx_slf1_unthr), np.std(jacard_ptx_slf2_unthr), np.std(jacard_ptx_slf3_unthr)]\n",
    "jacard_ptx_median_unthr = [np.median(jacard_ptx_slf1_unthr), np.median(jacard_ptx_slf2_unthr), np.median(jacard_ptx_slf3_unthr)]\n",
    "\n",
    "jacard_tra20_mean = [np.mean(jacard20_tra_slf1), np.mean(jacard20_tra_slf2), np.mean(jacard20_tra_slf3)]\n",
    "jacard_tra20_sd = [np.std(jacard20_tra_slf1), np.std(jacard20_tra_slf2), np.std(jacard20_tra_slf3)]\n",
    "jacard_tra20_median = [np.median(jacard20_tra_slf1), np.median(jacard20_tra_slf2), np.median(jacard20_tra_slf3)]\n",
    "\n",
    "jacard_tra15_mean = [np.mean(jacard15_tra_slf1), np.mean(jacard15_tra_slf2), np.mean(jacard15_tra_slf3)]\n",
    "jacard_tra15_sd = [np.std(jacard15_tra_slf1), np.std(jacard15_tra_slf2), np.std(jacard15_tra_slf3)]\n",
    "jacard_tra15_median = [np.median(jacard15_tra_slf1), np.median(jacard15_tra_slf2), np.median(jacard15_tra_slf3)]\n",
    "\n",
    "jacard_tra10_mean = [np.mean(jacard10_tra_slf1), np.mean(jacard10_tra_slf2), np.mean(jacard10_tra_slf3)]\n",
    "jacard_tra10_sd = [np.std(jacard10_tra_slf1), np.std(jacard10_tra_slf2), np.std(jacard10_tra_slf3)]\n",
    "jacard_tra10_median = [np.median(jacard10_tra_slf1), np.median(jacard10_tra_slf2), np.median(jacard10_tra_slf3)]\n",
    "\n",
    "jacard_tra05_mean = [np.mean(jacard05_tra_slf1), np.mean(jacard05_tra_slf2), np.mean(jacard05_tra_slf3)]\n",
    "jacard_tra05_sd = [np.std(jacard05_tra_slf1), np.std(jacard05_tra_slf2), np.std(jacard05_tra_slf3)]\n",
    "jacard_tra05_median = [np.median(jacard05_tra_slf1), np.median(jacard05_tra_slf2), np.median(jacard05_tra_slf3)]\n",
    "\n",
    "jacard_tra005_mean = [np.mean(jacard005_tra_slf1), np.mean(jacard005_tra_slf2), np.mean(jacard005_tra_slf3)]\n",
    "jacard_tra005_sd = [np.std(jacard005_tra_slf1), np.std(jacard005_tra_slf2), np.std(jacard005_tra_slf3)]\n",
    "jacard_tra005_median = [np.median(jacard005_tra_slf1), np.median(jacard005_tra_slf2), np.median(jacard005_tra_slf3)]\n",
    "\n",
    "jacard_tra0_mean = [np.mean(jacard0_tra_slf1), np.mean(jacard0_tra_slf2), np.mean(jacard0_tra_slf3)]\n",
    "jacard_tra0_sd = [np.std(jacard0_tra_slf1), np.std(jacard0_tra_slf2), np.std(jacard0_tra_slf3)]\n",
    "jacard_tra0_median = [np.median(jacard0_tra_slf1), np.median(jacard0_tra_slf2), np.median(jacard0_tra_slf3)]"
   ]
  },
  {
   "cell_type": "code",
   "execution_count": 144,
   "metadata": {},
   "outputs": [
    {
     "data": {
      "image/png": "[encoded data removed]",
      "text/plain": [
       "<Figure size 432x288 with 1 Axes>"
      ]
     },
     "metadata": {},
     "output_type": "display_data"
    }
   ],
   "source": [
    "barWidth = 0.1\n",
    "r1 = np.arange(len(tra0_mean))\n",
    "r2 = [x + barWidth for x in r1]\n",
    "r3 = [x + 2*barWidth for x in r1]\n",
    "r4 = [x + 3*barWidth for x in r1]\n",
    "r5 = [x + 4*barWidth for x in r1]\n",
    "r6 = [x + 5*barWidth for x in r1]\n",
    "r7 = [x + 6*barWidth for x in r1]\n",
    "r8 = [x + 7*barWidth for x in r1]\n",
    "\n",
    "plt.bar(r1, ptx_mean, width = barWidth, color = 'red', edgecolor = 'black', yerr=ptx_sd, capsize=7, label='Auto_ptx_05%')\n",
    "plt.bar(r2, ptx_mean_unthr, width = barWidth, color = 'lightsalmon', edgecolor = 'black', yerr=ptx_sd_unthr, capsize=7, label='Auto_ptx_unthr')\n",
    "plt.bar(r3, tra20_mean, width = barWidth, color = 'navy', edgecolor = 'black', yerr=tra20_sd, capsize=7, label='TRACULA20%')\n",
    "plt.bar(r4, tra15_mean, width = barWidth, color = 'blue', edgecolor = 'black', yerr=tra15_sd, capsize=7, label='TRACULA15%')\n",
    "plt.bar(r5, tra10_mean, width = barWidth, color = 'dodgerblue', edgecolor = 'black', yerr=tra10_sd, capsize=7, label='TRACULA10%')\n",
    "plt.bar(r6, tra05_mean, width = barWidth, color = 'cyan', edgecolor = 'black', yerr=tra05_sd, capsize=7, label='TRACULA_5%')\n",
    "plt.bar(r7, tra005_mean, width = barWidth, color = 'lightcyan', edgecolor = 'black', yerr=tra005_sd, capsize=7, label='TRACULA_05%')\n",
    "plt.bar(r8, tra0_mean, width = barWidth, color = 'lightcyan', edgecolor = 'black', yerr=tra0_sd, capsize=7, label='TRACULA_unthr')\n",
    "\n",
    "\n",
    "plt.xticks([r + 3.5*barWidth for r in range(len(tra0_mean))], ['SLFI', 'SLFII', 'SLFIII'])\n",
    "plt.ylabel('Hausdorff Distance')\n",
    "plt.legend()\n",
    "\n",
    "plt.show()\n"
   ]
  },
  {
   "cell_type": "code",
   "execution_count": 185,
   "metadata": {},
   "outputs": [
    {
     "data": {
      "image/png": "[encoded data removed]",
      "text/plain": [
       "<Figure size 432x288 with 1 Axes>"
      ]
     },
     "metadata": {},
     "output_type": "display_data"
    }
   ],
   "source": [
    "barWidth = 0.2\n",
    "r1 = np.arange(len(tra0_mean))\n",
    "r2 = [x + barWidth for x in r1]\n",
    "r3 = [x + 2*barWidth for x in r1]\n",
    "\n",
    "plt.bar(r1, ptx_mean, width = barWidth, color = 'red', edgecolor = 'black', yerr=ptx_sd, capsize=7, label='Multi ROI')\n",
    "plt.bar(r2, tra05_mean, width = barWidth, color = 'cyan', edgecolor = 'black', yerr=tra05_sd, capsize=7, label='TRACULA')\n",
    "\n",
    "plt.xticks([r + 0.5*barWidth for r in range(len(tra0_mean))], ['SLFI', 'SLFII', 'SLFIII'])\n",
    "plt.ylabel('Hausdorff Distance')\n",
    "plt.legend()\n",
    "\n",
    "plt.show()"
   ]
  },
  {
   "cell_type": "code",
   "execution_count": 186,
   "metadata": {},
   "outputs": [
    {
     "data": {
      "image/png": "[encoded data removed]",
      "text/plain": [
       "<Figure size 432x288 with 1 Axes>"
      ]
     },
     "metadata": {},
     "output_type": "display_data"
    }
   ],
   "source": [
    "plt.bar(r1, jacard_ptx_mean, width = barWidth, color = 'red', edgecolor = 'black', yerr=jacard_ptx_sd, capsize=7, label='Multi ROI')\n",
    "plt.bar(r2, jacard_tra05_mean, width = barWidth, color = 'cyan', edgecolor = 'black', yerr=jacard_tra05_sd, capsize=7, label='TRACULA')\n",
    "\n",
    "plt.xticks([r + 0.5*barWidth for r in range(len(tra0_mean))], ['SLFI', 'SLFII', 'SLFIII'])\n",
    "plt.ylabel('Jacard Coefficient')\n",
    "plt.legend()\n",
    "\n",
    "plt.show()"
   ]
  },
  {
   "cell_type": "code",
   "execution_count": 145,
   "metadata": {},
   "outputs": [
    {
     "data": {
      "image/png": "[encoded data removed]",
      "text/plain": [
       "<Figure size 432x288 with 1 Axes>"
      ]
     },
     "metadata": {},
     "output_type": "display_data"
    }
   ],
   "source": [
    "plt.bar(r1, jacard_ptx_mean, width = barWidth, color = 'red', edgecolor = 'black', yerr=jacard_ptx_sd, capsize=7, label='Auto_ptx')\n",
    "plt.bar(r2, jacard_ptx_mean_unthr, width = barWidth, color = 'lightsalmon', edgecolor = 'black', yerr=jacard_ptx_sd_unthr, capsize=7, label='Auto_ptx_unthr')\n",
    "plt.bar(r3, jacard_tra20_mean, width = barWidth, color = 'navy', edgecolor = 'black', yerr=jacard_tra20_sd, capsize=7, label='TRACULA20%')\n",
    "plt.bar(r4, jacard_tra15_mean, width = barWidth, color = 'blue', edgecolor = 'black', yerr=jacard_tra15_sd, capsize=7, label='TRACULA15%')\n",
    "plt.bar(r5, jacard_tra10_mean, width = barWidth, color = 'dodgerblue', edgecolor = 'black', yerr=jacard_tra10_sd, capsize=7, label='TRACULA10%')\n",
    "plt.bar(r6, jacard_tra05_mean, width = barWidth, color = 'cyan', edgecolor = 'black', yerr=jacard_tra05_sd, capsize=7, label='TRACULA_5%')\n",
    "plt.bar(r7, jacard_tra005_mean, width = barWidth, color = 'lightcyan', edgecolor = 'black', yerr=jacard_tra005_sd, capsize=7, label='TRACULA_unthr')\n",
    "plt.bar(r8, jacard_tra0_mean, width = barWidth, color = 'lightcyan', edgecolor = 'black', yerr=jacard_tra0_sd, capsize=7, label='TRACULA_unthr')\n",
    "\n",
    "\n",
    "plt.xticks([r + 2.5*barWidth for r in range(len(tra0_mean))], ['SLFI', 'SLFII', 'SLFIII'])\n",
    "plt.ylabel('Jacard Coefficient')\n",
    "plt.legend()\n",
    "\n",
    "plt.show()"
   ]
  },
  {
   "cell_type": "code",
   "execution_count": null,
   "metadata": {
    "collapsed": true
   },
   "outputs": [],
   "source": [
    "#ttest\n"
   ]
  },
  {
   "cell_type": "code",
   "execution_count": 218,
   "metadata": {
    "collapsed": true
   },
   "outputs": [
    {
     "data": {
      "image/png": "[encoded data removed]",
      "text/plain": [
       "<Figure size 144x216 with 1 Axes>"
      ]
     },
     "metadata": {},
     "output_type": "display_data"
    },
    {
     "data": {
      "image/png": "[encoded data removed]",
      "text/plain": [
       "<Figure size 144x216 with 1 Axes>"
      ]
     },
     "metadata": {},
     "output_type": "display_data"
    },
    {
     "data": {
      "image/png": "[encoded data removed]",
      "text/plain": [
       "<Figure size 144x216 with 1 Axes>"
      ]
     },
     "metadata": {},
     "output_type": "display_data"
    }
   ],
   "source": [
    "hausdorf_slf1_df = pd.DataFrame(data={'TRACULA': acc005_tra_slf1, 'Multi ROI': acc005_tra_slf1})\n",
    "hausdorf_slf2_df = pd.DataFrame(data={'TRACULA': acc005_tra_slf2, 'Multi ROI': acc005_tra_slf2})\n",
    "hausdorf_slf3_df = pd.DataFrame(data={'TRACULA': acc005_tra_slf3, 'Multi ROI': acc005_tra_slf3})\n",
    "\n",
    "jacard_slf1_df = pd.DataFrame(data={'TRACULA': jacard005_tra_slf1, 'Multi ROI': jacard005_tra_slf1})\n",
    "jacard_slf2_df = pd.DataFrame(data={'TRACULA': jacard005_tra_slf2, 'Multi ROI': jacard005_tra_slf2})\n",
    "jacard_slf3_df = pd.DataFrame(data={'TRACULA': jacard005_tra_slf3, 'Multi ROI': jacard005_tra_slf3})\n",
    "\n",
    "\n",
    "ax = hausdorf_slf1_df.boxplot(column=['TRACULA', 'Multi ROI'], grid=False, rot=45, fontsize=10, figsize=(2,3))\n",
    "ax.set_ylabel('Hausdorf Distance')\n",
    "plt.show()\n",
    "ax1 = hausdorf_slf2_df.boxplot(column=['TRACULA', 'Multi ROI'], grid=False, rot=45, fontsize=10, figsize=(2,3))\n",
    "plt.show()\n",
    "ax = hausdorf_slf1_df.boxplot(column=['TRACULA', 'Multi ROI'], grid=False, rot=45, fontsize=10, figsize=(2,3))\n",
    "\n",
    "plt.show()"
   ]
  },
  {
   "cell_type": "code",
   "execution_count": 188,
   "metadata": {
    "collapsed": true
   },
   "outputs": [
    {
     "name": "stdout",
     "output_type": "stream",
     "text": [
      "-------- freesurfer-linux-centos7_x86_64-dev-20181106-a25ebdc --------\n",
      "Setting up environment for FreeSurfer/FS-FAST (and FSL)\n",
      "FREESURFER_HOME   /usr/local/freesurfer/dev\n",
      "FSFAST_HOME       /usr/local/freesurfer/dev/fsfast\n",
      "FSF_OUTPUT_FORMAT nii.gz\n",
      "SUBJECTS_DIR      /usr/local/freesurfer/dev/subjects\n",
      "MNI_DIR           /usr/local/freesurfer/dev/mni\n",
      "FSL_DIR           /usr/pubsw/packages/fsl/current\n",
      "tmp.mgh_1001\n",
      "tmp.mgh_1006\n",
      "tmp.mgh_1007\n",
      "tmp.mgh_1008\n",
      "tmp.mgh_1009\n",
      "tmp.mgh_1010\n",
      "tmp.mgh_1011\n",
      "tmp.mgh_1012\n",
      "tmp.mgh_1013\n",
      "tmp.mgh_1015\n",
      "tmp.mgh_1016\n",
      "tmp.mgh_1017\n",
      "tmp.mgh_1019\n",
      "tmp.mgh_1021\n",
      "tmp.mgh_1023\n"
     ]
    },
    {
     "name": "stderr",
     "output_type": "stream",
     "text": [
      "stdin: is not a tty\n"
     ]
    }
   ],
   "source": [
    "%%script csh\n",
    "source /usr/local/freesurfer/nmr-dev-env\n",
    "foreach sub (tmp.mgh_????)\n",
    "echo $sub\n",
    "freeview -v $sub/t12fa.nii.gz:grayscale=77,220 \\\n",
    "            $sub/slf1_r.nii.gz:colormap=heat:isosurface=0,0:color='Red'\\\n",
    "            $sub/slf2_r.nii.gz:colormap=heat:isosurface=0,0:color='#00b700'\\\n",
    "            $sub/slf3_r.nii.gz:colormap=heat:isosurface=0,0:color='#005aff'\\\n",
    "            -viewport 3d -nocursor -layout 1 -cam azimuth 180 --screenshot $sub/manual --zoom 2 --hide-3d-frames -slice 99 105 72\n",
    "end"
   ]
  },
  {
   "cell_type": "code",
   "execution_count": 175,
   "metadata": {
    "collapsed": true
   },
   "outputs": [
    {
     "name": "stdout",
     "output_type": "stream",
     "text": [
      "-------- freesurfer-linux-centos7_x86_64-dev-20181106-a25ebdc --------\n",
      "Setting up environment for FreeSurfer/FS-FAST (and FSL)\n",
      "FREESURFER_HOME   /usr/local/freesurfer/dev\n",
      "FSFAST_HOME       /usr/local/freesurfer/dev/fsfast\n",
      "FSF_OUTPUT_FORMAT nii.gz\n",
      "SUBJECTS_DIR      /usr/local/freesurfer/dev/subjects\n",
      "MNI_DIR           /usr/local/freesurfer/dev/mni\n",
      "FSL_DIR           /usr/pubsw/packages/fsl/current\n",
      "tmp.mgh_1001\n",
      "tmp.mgh_1006\n",
      "tmp.mgh_1007\n",
      "tmp.mgh_1008\n",
      "tmp.mgh_1009\n",
      "tmp.mgh_1010\n",
      "tmp.mgh_1011\n",
      "tmp.mgh_1012\n",
      "tmp.mgh_1013\n",
      "tmp.mgh_1015\n",
      "tmp.mgh_1016\n",
      "tmp.mgh_1017\n",
      "tmp.mgh_1019\n",
      "tmp.mgh_1021\n",
      "tmp.mgh_1023\n"
     ]
    },
    {
     "name": "stderr",
     "output_type": "stream",
     "text": [
      "stdin: is not a tty\n"
     ]
    }
   ],
   "source": [
    "%%script csh\n",
    "source /usr/local/freesurfer/nmr-dev-env\n",
    "foreach sub (tmp.mgh_????)\n",
    "echo $sub\n",
    "freeview -v $sub/t12fa.nii.gz:grayscale=77,220 \\\n",
    "            $sub/slf1_r_tract.nii.gz:colormap=heat:isosurface=0,0:color='Red'\\\n",
    "            $sub/slf2_r_tract.nii.gz:colormap=heat:isosurface=0,0:color='#00b700'\\\n",
    "            $sub/slf3_r_tract.nii.gz:colormap=heat:isosurface=0,0:color='#005aff'\\\n",
    "            -viewport 3d -nocursor -layout 1 -cam azimuth 180  --zoom 2 --hide-3d-frames -slice 99 105 72 --screenshot $sub/autoptx\n",
    "end\n"
   ]
  },
  {
   "cell_type": "code",
   "execution_count": 226,
   "metadata": {},
   "outputs": [
    {
     "name": "stderr",
     "output_type": "stream",
     "text": [
      "stdin: is not a tty\n"
     ]
    }
   ],
   "source": [
    "%%script csh\n",
    "#montage\n",
    "set methods = (manual thr05 autoptx)\n",
    "set listW = ()\n",
    "set listH = ()\n",
    "foreach sub (tmp.mgh_????)\n",
    "    foreach method ($methods)\n",
    "    set f = $sub/$method.png\n",
    "    set tmp = `identify $f` #gets info of file\n",
    "    set dims = `echo $tmp[3] | awk 'BEGIN {FS=\"x\"}{print $1, $2}'` #extracts dimensions\n",
    "              set listW = ($listW $dims[1])\n",
    "              set listH = ($listH $dims[2])\n",
    "    end\n",
    "end \n",
    "    set sortedW = `echo $listW | tr \" \" \"\\n\" | sort -n`\n",
    "    set sortedH = `echo $listH | tr \" \" \"\\n\" | sort -n`\n",
    "\n",
    "    set maxW = $sortedW[$#sortedW]\n",
    "    set maxH = $sortedH[$#sortedH]\n",
    "                        \n",
    "foreach sub (tmp.mgh_????)\n",
    "    set nameslistW = ()\n",
    "    foreach method ($methods)\n",
    "    set f = $sub/$method.png\n",
    "    set outname = $sub/$method.png\n",
    "    convert $f -gravity center -background black -resize x${maxH} $outname   \n",
    "    end\n",
    "end\n",
    "\n",
    "foreach sub (tmp.mgh_????)\n",
    "    set nameslistW = ()\n",
    "    foreach method ($methods)\n",
    "    set f = $sub/$method.png\n",
    "    set nameslistW = ($nameslistW $f)\n",
    "    end\n",
    "    set outname = screenshots/${sub}.png\n",
    "    montage -tile 3x1 -mode Concatenate $nameslistW -fill black -background '#000000'  $outname\n",
    "    echo $outname\n",
    "end                     \n",
    "                                                \n",
    "set nameslistW = ()\n",
    "set nameslistW_cap = ()\n",
    "\n",
    "foreach sub (tmp.mgh_????)\n",
    "    set nameslistW = ($nameslistW screenshots/${sub}.png)\n",
    "    set nameslistW_cap = ($nameslistW_cap screenshots/${sub}.caption.png)\n",
    "end\n",
    "\n",
    "set outname = screenshots/all.png\n",
    "set outname_cap = screenshots/all_cap.png\n",
    "\n",
    "montage -tile 1x15 -mode Concatenate $nameslistW -fill black -background '#000000' -geometry +4+4 $outname\n",
    "montage -tile 1x15 -mode Concatenate ${nameslistW_cap} -fill black -background '#000000' -geometry +4+4 $outname_cap\n",
    "\n",
    "set nameslistW = ()\n",
    "set nameslistW_cap = ()\n",
    "set nameslistW = ()\n",
    "set list_subj = (tmp.mgh_1006 tmp.mgh_1010 tmp.mgh_1009 tmp.mgh_1001 tmp.mgh_1021)\n",
    "foreach sub ($list_subj)\n",
    "    set nameslistW = ($nameslistW screenshots/${sub}.png)\n",
    "end\n",
    "\n",
    "set outname = screenshots/5subjects.png\n",
    "montage -tile 1x15 -mode Concatenate $nameslistW -fill black -background '#000000'  $outname"
   ]
  }
 ],
 "metadata": {
  "kernelspec": {
   "display_name": "Python 3",
   "language": "python",
   "name": "python3"
  },
  "language_info": {
   "codemirror_mode": {
    "name": "ipython",
    "version": 3
   },
   "file_extension": ".py",
   "mimetype": "text/x-python",
   "name": "python",
   "nbconvert_exporter": "python",
   "pygments_lexer": "ipython3",
   "version": "3.7.4"
  }
 },
 "nbformat": 4,
 "nbformat_minor": 2
}
