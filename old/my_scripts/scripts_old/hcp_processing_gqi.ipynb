{
 "cells": [
  {
   "cell_type": "code",
   "execution_count": 15,
   "metadata": {
    "collapsed": false
   },
   "outputs": [],
   "source": [
    "import numpy as np\n",
    "import matplotlib.pyplot as plt\n",
    "import nibabel as nib\n",
    "import os\n",
    "import glob\n",
    "\n",
    "from dipy.core.gradients import gradient_table\n",
    "from dipy.core.ndindex import ndindex\n",
    "from dipy.core.sphere import faces_from_sphere_vertices, unique_edges\n",
    "from dipy.data import get_sphere, HemiSphere, Sphere\n",
    "from dipy.direction.peaks import peak_directions\n",
    "from dipy.direction import (peaks_from_model, ProbabilisticDirectionGetter)\n",
    "from dipy.io import read_bvals_bvecs\n",
    "from dipy.io.image import save_nifti\n",
    "from dipy.io.streamline import load_trk\n",
    "from dipy.io.streamline import save_trk\n",
    "from dipy.reconst.gqi import GeneralizedQSamplingModel\n",
    "from dipy.reconst.peaks import reshape_peaks_for_visualization\n",
    "from dipy.reconst.shm import sf_to_sh, sph_harm_lookup, smooth_pinv\n",
    "from dipy.tracking import utils\n",
    "from dipy.tracking.local import (ThresholdTissueClassifier, LocalTracking,CmcTissueClassifier)\n",
    "from dipy.tracking.streamline import Streamlines\n",
    "from dipy.tracking.utils import random_seeds_from_mask\n",
    "from dipy.viz import window, actor, fvtk"
   ]
  },
  {
   "cell_type": "code",
   "execution_count": 3,
   "metadata": {
    "collapsed": false
   },
   "outputs": [],
   "source": [
    "os.chdir('/space/hemera/1/users/cmaffei/hcp_processing/mgh_1001/')\n",
    "wd = ('/space/hemera/1/users/cmaffei/hcp_processing/mgh_1001/')"
   ]
  },
  {
   "cell_type": "code",
   "execution_count": 4,
   "metadata": {
    "collapsed": true
   },
   "outputs": [],
   "source": [
    "sphere642 = get_sphere('symmetric642')\n",
    "sphere642.vertices = sphere642.vertices.astype('float')\n",
    "sphere642.edges = sphere642.edges.astype('uint16')\n",
    "sphere642.faces = sphere642.faces.astype('uint16')\n",
    "sphere642.phi = sphere642.phi.astype('float')"
   ]
  },
  {
   "cell_type": "code",
   "execution_count": null,
   "metadata": {
    "collapsed": false
   },
   "outputs": [],
   "source": [
    "#parameters\n",
    "dl = 1.4\n",
    "#setting variables\n",
    "for sub in glob.glob(os.path.join(wd, 'mgh_*')):\n",
    "    bvals, bvecs = read_bvals_bvecs(os.path.join(sub, 'all_shells/bvals'), os.path.join(sub, 'all_shells/bvecs'))\n",
    "    img = nib.load(os.path.join(sub, 'all_shells/data_corr.nii.gz'))\n",
    "    data = img.get_data()\n",
    "    gtab = gradient_table(bvals,bvecs)\n",
    "    print('Computing matrix A for'+str(sub))\n",
    "    #computing matrix A\n",
    "    l_values = np.sqrt(gtab.bvals * 0.01506)\n",
    "    tmp=np.tile(l_values, (3,1))\n",
    "    gradsT = gtab.bvecs.T\n",
    "    b_vector = gradsT * tmp\n",
    "    b_vector = b_vector.T\n",
    "    gqi_vector = np.real(np.sinc(np.dot(b_vector, sphere642.vertices.T)* dl/np.pi))\n",
    "    print('Computing ODFs for'+str(sub))\n",
    "    odfs = np.dot(data, gqi_vector)\n",
    "    print('Saving ODFs for'+str(sub))\n",
    "    #save odfs \n",
    "    nib.save(nib.Nifti1Image(odfs.astype(np.float32),\n",
    "                                  img.affine, img.header), os.path.join(sub, 'all_shells/odfs.nii.gz'))"
   ]
  },
  {
   "cell_type": "code",
   "execution_count": null,
   "metadata": {
    "collapsed": false
   },
   "outputs": [],
   "source": [
    "%%script tcsh\n",
    "foreach sub (mgh_????)\n",
    "        echo $sub\n",
    "        set input = $sub/all_shells/odfs.nii.gz\n",
    "        set output = $sub/all_shells/odfs_masked.nii.gz\n",
    "        set mask = $sub/nodif_brain_mask.nii.gz\n",
    "        fslmaths\n",
    "        echo 'processing' $input \n",
    "        fslmaths $input -mas $mask $output\n",
    "end"
   ]
  },
  {
   "cell_type": "code",
   "execution_count": null,
   "metadata": {
    "collapsed": false
   },
   "outputs": [],
   "source": [
    "#min/max normalization\n",
    "for sub in glob.glob(os.path.join(wd, 'mgh_*')):\n",
    "    print('Loading ODFs for'+str(sub))\n",
    "    mask = nib.load(os.path.join(sub, 'nodif_brain_mask.nii.gz')).get_data()\n",
    "    img = nib.load(os.path.join(sub, 'all_shells/odfs_masked.nii.gz'))\n",
    "    odfs = img.get_data()\n",
    "    print('Normalizing ODFs for'+str(sub))\n",
    "    ijk = np.ascontiguousarray(np.array(np.nonzero(mask)).T)\n",
    "    shape = odfs.shape[:-1]\n",
    "    odfs_norm = np.zeros ((shape + (len(sphere642.vertices),)))\n",
    "    for (k, center) in enumerate(ijk):\n",
    "        m = odfs[tuple(center.astype(np.int))].copy()\n",
    "        m = m - (np.abs(m).min())\n",
    "        m = m / (np.abs(m).max())\n",
    "        odfs_norm[tuple(center.astype(np.int))] = m\n",
    "    print('Saving Normalized ODFs for'+str(sub))\n",
    "    nib.save(nib.Nifti1Image(odfs_norm.astype(np.float32),\n",
    "                                  img.affine, img.header), os.path.join(sub, 'all_shells/odfs_norm.nii.gz'))"
   ]
  },
  {
   "cell_type": "code",
   "execution_count": null,
   "metadata": {
    "collapsed": false
   },
   "outputs": [],
   "source": [
    "#Extract peaks values and directions\n",
    "#set maximum number of peaks relatve peak threshold and min separation angle\n",
    "npeaks=3\n",
    "relative_peak_threshold=.5\n",
    "min_separation_angle=25\n",
    "\n",
    "for sub in glob.glob(os.path.join(wd, 'mgh_*')):\n",
    "    #load files\n",
    "    mask = nib.load(os.path.join(sub, 'nodif_brain_mask.nii.gz')).get_data()\n",
    "    img = nib.load(os.path.join(sub, 'all_shells/odfs_norm.nii.gz'))\n",
    "    odfs = img.get_data()\n",
    "    shape=mask.shape    \n",
    "    peak_dirs = np.zeros ((shape + (npeaks, 3)))\n",
    "    peak_values = np.zeros ((shape + (npeaks,)))\n",
    "    peak_indices = np.zeros((shape + (npeaks,)), dtype='int')\n",
    "    odfs =odfs.astype(float)\n",
    "    for idx in ndindex(shape):\n",
    "        if not mask[idx]:\n",
    "            continue\n",
    "            direction, pk, indices = peak_directions(odfs[idx], sphere642, \n",
    "                                                     relative_peak_threshold, min_separation_angle)\n",
    "            n = min(npeaks, pk.shape[0])\n",
    "            peak_dirs[idx][:n] = direction[:n]\n",
    "            peak_values[idx][:n] = pk[:n]\n",
    "            peak_indices[idx][:n] = indices[:n]\n",
    "            #save peaks directions\n",
    "#     nib.save(nib.Nifti1Image(reshape_peaks_for_visualization(peak_dirs),\n",
    "#                                      img.affine),os.path.join(sub, 'all_shells/peaks.nii.gz'))"
   ]
  },
  {
   "cell_type": "code",
   "execution_count": null,
   "metadata": {
    "collapsed": false
   },
   "outputs": [
    {
     "name": "stdout",
     "output_type": "stream",
     "text": [
      "Loading ODFs for/space/hemera/1/users/cmaffei/hcp_processing/mgh_1023\n"
     ]
    },
    {
     "name": "stderr",
     "output_type": "stream",
     "text": [
      "/autofs/space/tinia_001/users/chiara/anaconda2/lib/python2.7/site-packages/dipy/viz/actor.py:821: RuntimeWarning: invalid value encountered in true_divide\n",
      "  m /= np.abs(m).max()\n",
      "/autofs/space/tinia_001/users/chiara/anaconda2/lib/python2.7/site-packages/matplotlib/colors.py:504: RuntimeWarning: invalid value encountered in less\n",
      "  xa[xa < 0] = -1\n"
     ]
    },
    {
     "name": "stdout",
     "output_type": "stream",
     "text": [
      "Saving illustration as gqi_odfs.png\n",
      "Loading ODFs for/space/hemera/1/users/cmaffei/hcp_processing/mgh_1015\n",
      "Saving illustration as gqi_odfs.png\n",
      "Loading ODFs for/space/hemera/1/users/cmaffei/hcp_processing/mgh_1001\n",
      "Saving illustration as gqi_odfs.png\n",
      "Loading ODFs for/space/hemera/1/users/cmaffei/hcp_processing/mgh_1018\n",
      "Saving illustration as gqi_odfs.png\n",
      "Loading ODFs for/space/hemera/1/users/cmaffei/hcp_processing/mgh_1002\n",
      "Saving illustration as gqi_odfs.png\n",
      "Loading ODFs for/space/hemera/1/users/cmaffei/hcp_processing/mgh_1010\n",
      "Saving illustration as gqi_odfs.png\n",
      "Loading ODFs for/space/hemera/1/users/cmaffei/hcp_processing/mgh_1027\n",
      "Saving illustration as gqi_odfs.png\n",
      "Loading ODFs for/space/hemera/1/users/cmaffei/hcp_processing/mgh_1008\n",
      "Saving illustration as gqi_odfs.png\n",
      "Loading ODFs for/space/hemera/1/users/cmaffei/hcp_processing/mgh_1019\n",
      "Saving illustration as gqi_odfs.png\n",
      "Loading ODFs for/space/hemera/1/users/cmaffei/hcp_processing/mgh_1033\n"
     ]
    }
   ],
   "source": [
    "#checking ODFs\n",
    "interactive = False\n",
    "\n",
    "for sub in glob.glob(os.path.join(wd, 'mgh_*')):\n",
    "    print('Loading ODFs for'+str(sub))\n",
    "    #load files \n",
    "    img = nib.load(os.path.join(sub, 'all_shells/odfs_norm.nii.gz'))\n",
    "    odfs = img.get_data()\n",
    "    #actors\n",
    "    r = window.Renderer()\n",
    "    gqi_odfs_actor = actor.odf_slicer(odfs, sphere=sphere642, scale=0.6, norm=True, colormap= 'jet')\n",
    "#     gqi_peaks_actor = actor.peak_slicer(peak_dirs, peak_values, colors=(1,0,0))\n",
    "    gqi_odfs_actor.GetProperty().SetOpacity(0.6)\n",
    "    gqi_odfs_actor.display_extent(0, 140, 90, 90, 0, 96)\n",
    "#     gqi_peaks_actor.display_extent(83, 83, 69, 69, 59, 59)\n",
    "    r.set_camera(position=(0, 10, 0))\n",
    "    r.add(gqi_odfs_actor)\n",
    "#     r.add(gqi_peaks_actor)\n",
    "    print('Saving illustration as gqi_odfs.png')\n",
    "    if interactive:\n",
    "        window.show(r)\n",
    "    else:\n",
    "        window.record(r, out_path=os.path.join(sub, 'all_shells/odfs.png'), size=(900, 900))\n",
    "    r = None\n",
    "    img = None\n",
    "    odfs = None\n",
    "    gqi_odfs_actor = None\n",
    "    \n",
    "    "
   ]
  }
 ],
 "metadata": {
  "kernelspec": {
   "display_name": "Python 2",
   "language": "python",
   "name": "python2"
  },
  "language_info": {
   "codemirror_mode": {
    "name": "ipython",
    "version": 2
   },
   "file_extension": ".py",
   "mimetype": "text/x-python",
   "name": "python",
   "nbconvert_exporter": "python",
   "pygments_lexer": "ipython2",
   "version": "2.7.14"
  }
 },
 "nbformat": 4,
 "nbformat_minor": 2
}
