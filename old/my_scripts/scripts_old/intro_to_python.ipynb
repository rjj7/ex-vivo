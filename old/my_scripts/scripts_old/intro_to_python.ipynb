{
 "cells": [
  {
   "cell_type": "code",
   "execution_count": 2,
   "metadata": {},
   "outputs": [],
   "source": [
    "import numpy as np\n",
    "import nibabel as nib\n",
    "import matplotlib.pyplot as plt"
   ]
  },
  {
   "cell_type": "markdown",
   "metadata": {},
   "source": [
    "As with other container objects in Python, the contents of an ndarray can be accessed and modified by indexing or slicing the array (using, for example, N integers), and via the methods and attributes of the ndarray.\n",
    "A simple way to create an array from data or simple Python data structures like a list is to use the array() function."
   ]
  },
  {
   "cell_type": "code",
   "execution_count": 3,
   "metadata": {
    "collapsed": true
   },
   "outputs": [],
   "source": [
    "#A 2-dimensional array of size 2 x 3, composed of 4-byte integer elements:\n",
    "x = np.array([[1, 2, 3], [4, 5, 6]], np.int32)"
   ]
  },
  {
   "cell_type": "code",
   "execution_count": 19,
   "metadata": {},
   "outputs": [
    {
     "name": "stdout",
     "output_type": "stream",
     "text": [
      "(2, 3)\n"
     ]
    },
    {
     "data": {
      "text/plain": [
       "dtype('int32')"
      ]
     },
     "execution_count": 19,
     "metadata": {},
     "output_type": "execute_result"
    }
   ],
   "source": [
    "type(x)\n",
    "print(x.shape)\n",
    "x.dtype"
   ]
  },
  {
   "cell_type": "markdown",
   "metadata": {},
   "source": [
    "The array can be indexed using Python container-like syntax. \n",
    "ndarrays can be indexed using the standard Python x[obj] syntax, where x is the array and obj the selection.\n",
    "Remember in Python, all indices are zero-based."
   ]
  },
  {
   "cell_type": "code",
   "execution_count": 9,
   "metadata": {},
   "outputs": [
    {
     "data": {
      "text/plain": [
       "6"
      ]
     },
     "execution_count": 9,
     "metadata": {},
     "output_type": "execute_result"
    }
   ],
   "source": [
    "# The element of x in the *second* row, *third* column, namely, 6.\n",
    "x[1, 2]"
   ]
  },
  {
   "cell_type": "markdown",
   "metadata": {},
   "source": [
    "For example slicing can produce views of the array.\n",
    "Basic slicing extends Python’s basic concept of slicing to N dimensions. Basic slicing occurs when obj is a slice object (constructed by start:stop:step notation inside of brackets), an integer, or a tuple of slice objects and integers.\n",
    "The basic slice syntax is i:j:k where i is the starting index, j is the stopping index, and k is the step (k!=0)"
   ]
  },
  {
   "cell_type": "code",
   "execution_count": 15,
   "metadata": {},
   "outputs": [
    {
     "data": {
      "text/plain": [
       "array([2, 5], dtype=int32)"
      ]
     },
     "execution_count": 15,
     "metadata": {},
     "output_type": "execute_result"
    }
   ],
   "source": [
    "y = x[:,1]\n",
    "y"
   ]
  },
  {
   "cell_type": "code",
   "execution_count": 17,
   "metadata": {},
   "outputs": [
    {
     "name": "stdout",
     "output_type": "stream",
     "text": [
      "[[1 9 3]\n",
      " [4 5 6]]\n"
     ]
    }
   ],
   "source": [
    "y[0] = 9 # this also changes the corresponding element in x\n",
    "\n",
    "print(x)"
   ]
  },
  {
   "cell_type": "markdown",
   "metadata": {},
   "source": [
    "Let s now create a 3x3 nd array "
   ]
  },
  {
   "cell_type": "code",
   "execution_count": 32,
   "metadata": {},
   "outputs": [],
   "source": [
    "z = np.array([[[ 0,  1,  2],\n",
    "        [ 3,  4,  5],\n",
    "        [ 6,  7,  8]],\n",
    "       [[ 9, 10, 11],\n",
    "        [12, 13, 14],\n",
    "        [15, 16, 17]],\n",
    "       [[18, 19, 20],\n",
    "        [21, 22, 23],\n",
    "        [24, 25, 26]]])"
   ]
  },
  {
   "cell_type": "markdown",
   "metadata": {},
   "source": [
    "and become familiar with the concept of axis"
   ]
  },
  {
   "cell_type": "code",
   "execution_count": 61,
   "metadata": {},
   "outputs": [
    {
     "name": "stdout",
     "output_type": "stream",
     "text": [
      "max(axis 0)[[18 19 20]\n",
      " [21 22 23]\n",
      " [24 25 26]]\n",
      "max(axis 1)[[ 6  7  8]\n",
      " [15 16 17]\n",
      " [24 25 26]]\n",
      "max(axis 2)[[ 2  5  8]\n",
      " [11 14 17]\n",
      " [20 23 26]]\n"
     ]
    }
   ],
   "source": [
    "print (\"max(axis 0)\" + str(z.max(axis=0)))\n",
    "print (\"max(axis 1)\" + str(z.max(axis=1)))\n",
    "print (\"max(axis 2)\" + str(z.max(axis=2)))"
   ]
  },
  {
   "cell_type": "markdown",
   "metadata": {},
   "source": [
    "Now let s load a 4D nifti file (CSD fODF in this case)\n"
   ]
  },
  {
   "cell_type": "code",
   "execution_count": 4,
   "metadata": {},
   "outputs": [
    {
     "name": "stdout",
     "output_type": "stream",
     "text": [
      "data shape: (140, 140, 96, 69)\n",
      "data type <type 'numpy.ndarray'>\n"
     ]
    }
   ],
   "source": [
    "fimg = (\"/space/hemera/1/users/cmaffei/scilpy_mrtrix_comparison/1000/from_mgh/data.nii.gz\")\n",
    "img = nib.load(fimg)\n",
    "data = img.get_data()\n",
    "print (\"data shape: \" + str(data.shape))\n",
    "print (\"data type \") + str(type(data))"
   ]
  },
  {
   "cell_type": "markdown",
   "metadata": {},
   "source": [
    "The first three axes represent three dimensional space (x, y, z). The last axis represents the spherical harmonic coefficients. For each of these 45 elements, there is one whole three dimensional image."
   ]
  },
  {
   "cell_type": "code",
   "execution_count": 77,
   "metadata": {},
   "outputs": [
    {
     "data": {
      "image/png": "[encoded data removed]",
      "text/plain": [
       "<Figure size 432x288 with 1 Axes>"
      ]
     },
     "metadata": {},
     "output_type": "display_data"
    }
   ],
   "source": [
    "# A slicer over the final axis (4th dim). This selects the first 3D volume from the 4D array\n",
    "first_vol = data[:, :, :, 0]  # or first_vol = data[..., 0]  ...=\"everything on te previous axes\"\n",
    "\n",
    "# A slice over the third dimension\n",
    "plt.imshow(first_vol[:, :, 40], cmap='gray')\n",
    "plt.show()"
   ]
  },
  {
   "cell_type": "markdown",
   "metadata": {},
   "source": [
    "By default numpy operates over the whole array. However you can ask numpy to operate over particular axes instead of operating over the whole array. For example, this will generate a 3D image, where each array value is the variance over the 45 values at that 3D position:"
   ]
  },
  {
   "cell_type": "code",
   "execution_count": 80,
   "metadata": {},
   "outputs": [
    {
     "data": {
      "image/png": "[encoded data removed]",
      "text/plain": [
       "<Figure size 432x288 with 1 Axes>"
      ]
     },
     "metadata": {},
     "output_type": "display_data"
    }
   ],
   "source": [
    "var_vol = np.var(data, axis=3)\n",
    "plt.imshow(var_vol[:, :, 40], cmap='gray')\n",
    "plt.show()"
   ]
  },
  {
   "cell_type": "code",
   "execution_count": 84,
   "metadata": {},
   "outputs": [
    {
     "data": {
      "text/plain": [
       "array([ 2.03854727,  2.05235571,  2.08724019,  2.10395567,  2.14438995,\n",
       "        2.19684881,  2.20246469])"
      ]
     },
     "execution_count": 84,
     "metadata": {},
     "output_type": "execute_result"
    }
   ],
   "source": [
    "#Now let s say I want to select only values in my first vol that are bigger than 2\n",
    "tf_mt_2 = first_vol > 2\n",
    "vals_mt_2 = first_vol[tf_mt_2]\n",
    "np.unique(vals_mt_2)"
   ]
  },
  {
   "cell_type": "code",
   "execution_count": 89,
   "metadata": {},
   "outputs": [
    {
     "data": {
      "text/plain": [
       "array([ -1.45970480e-05,  -1.45970480e-05,  -1.45970480e-05,\n",
       "        -1.45970480e-05,  -1.45970480e-05,  -1.45970480e-05,\n",
       "        -1.45970480e-05,  -1.45970480e-05,  -1.45970480e-05,\n",
       "        -1.45970480e-05,  -1.45970480e-05,  -1.45970480e-05,\n",
       "        -1.45970480e-05,  -1.45970480e-05,  -1.45970480e-05,\n",
       "        -1.45970480e-05,  -1.45970480e-05,  -1.45970480e-05,\n",
       "        -1.45970480e-05,  -1.45970480e-05,  -1.45970480e-05,\n",
       "        -1.45970480e-05,  -1.45970480e-05,  -1.45970480e-05,\n",
       "        -1.45970480e-05,  -1.45970480e-05,  -1.45970480e-05,\n",
       "        -1.45970480e-05,  -1.45970480e-05,  -1.45970480e-05,\n",
       "        -1.45970480e-05,  -1.45970480e-05,  -1.45970480e-05,\n",
       "        -1.45970480e-05,  -1.45970480e-05,  -1.45970480e-05,\n",
       "        -1.45970480e-05,  -1.45970480e-05,  -1.45970480e-05,\n",
       "        -1.45970480e-05,  -1.45970480e-05,  -1.45970480e-05,\n",
       "        -1.45970480e-05,  -1.45970480e-05,  -1.45970480e-05])"
      ]
     },
     "execution_count": 89,
     "metadata": {},
     "output_type": "execute_result"
    }
   ],
   "source": [
    "x = data [30, 30, 30, :]\n",
    "x"
   ]
  },
  {
   "cell_type": "code",
   "execution_count": 19,
   "metadata": {},
   "outputs": [
    {
     "name": "stdout",
     "output_type": "stream",
     "text": [
      "(140, 140, 96, 69)\n",
      "(140, 140, 96)\n",
      "1881600\n",
      "()\n",
      "(1881600, 69)\n",
      "(140, 140, 96, 69)\n"
     ]
    }
   ],
   "source": [
    "#reshape data\n",
    "print(data.shape)\n",
    "vol_shape=data.shape[:-1]\n",
    "print(vol_shape)\n",
    "n_voxels=np.prod(vol_shape)\n",
    "print(n_voxels)\n",
    "print(n_voxels.shape)\n",
    "voxel_by_time=data.reshape(n_voxels, data.shape[-1])\n",
    "print(voxel_by_time.shape)\n",
    "#reverse the thing\n",
    "data2=np.reshape(voxel_by_time,(data.shape))\n",
    "print(data2.shape)"
   ]
  },
  {
   "cell_type": "code",
   "execution_count": 16,
   "metadata": {},
   "outputs": [
    {
     "name": "stdout",
     "output_type": "stream",
     "text": [
      "(2, 6)\n",
      "(12,)\n"
     ]
    }
   ],
   "source": [
    "arr = np.array([[0, 1, 2, 3, 4, 5], [6, 7, 8, 9, 10, 11]])\n",
    "print(arr.shape)\n",
    "arr_1d = np.reshape(arr, 12)\n",
    "print(arr_1d.shape)"
   ]
  },
  {
   "cell_type": "code",
   "execution_count": null,
   "metadata": {
    "collapsed": true
   },
   "outputs": [],
   "source": []
  }
 ],
 "metadata": {
  "kernelspec": {
   "display_name": "Python 2",
   "language": "python",
   "name": "python2"
  },
  "language_info": {
   "codemirror_mode": {
    "name": "ipython",
    "version": 2
   },
   "file_extension": ".py",
   "mimetype": "text/x-python",
   "name": "python",
   "nbconvert_exporter": "python",
   "pygments_lexer": "ipython2",
   "version": "2.7.16"
  }
 },
 "nbformat": 4,
 "nbformat_minor": 2
}
