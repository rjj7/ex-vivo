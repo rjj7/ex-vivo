{
 "cells": [
  {
   "cell_type": "code",
   "execution_count": 49,
   "metadata": {},
   "outputs": [],
   "source": [
    "import numpy as np\n",
    "import matplotlib.pyplot as plt\n",
    "import nibabel as nib\n",
    "import os\n",
    "import glob\n",
    "import scipy\n",
    "\n",
    "from dipy.core.sphere import faces_from_sphere_vertices, unique_edges\n",
    "from dipy.data import get_sphere, HemiSphere, Sphere\n",
    "from dipy.io.streamline import load_trk\n",
    "from dipy.io.streamline import save_trk\n",
    "from dipy.tracking import utils\n",
    "from dipy.tracking.local import (CmcTissueClassifier, LocalTracking)\n",
    "from dipy.tracking.streamline import Streamlines\n",
    "from dipy.tracking.utils import random_seeds_from_mask, move_streamlines\n",
    "from dipy.direction import ProbabilisticDirectionGetter, DeterministicMaximumDirectionGetter\n",
    "from os import path"
   ]
  },
  {
   "cell_type": "code",
   "execution_count": 2,
   "metadata": {},
   "outputs": [],
   "source": [
    "os.chdir('/space/hemera/1/users/slf/')\n",
    "wd = '/space/hemera/1/users/slf/'"
   ]
  },
  {
   "cell_type": "code",
   "execution_count": 50,
   "metadata": {},
   "outputs": [],
   "source": [
    "mask=(\"I43/hemi/dtifit_FA.nii.gz\")\n",
    "img = nib.load(mask)\n",
    "fa_dtifit = img.get_data()\n",
    "mask=(\"I43/hemi/fa.nii.gz\")\n",
    "img2 = nib.load(mask)\n",
    "fa = img2.get_data()\n",
    "mask=(\"I43/hemi/fa_rot.nii.gz\")\n",
    "img3 = nib.load(mask)\n",
    "fa_rot = img3.get_data()\n",
    "mask=(\"../cmaffei/ex_vivo/I43/tracts/slf.nii\")\n",
    "img4 = nib.load(mask)\n",
    "slf = img4.get_data()"
   ]
  },
  {
   "cell_type": "code",
   "execution_count": 51,
   "metadata": {},
   "outputs": [],
   "source": [
    "bundle, hdr = load_trk('I43/hemi/tracts/wb_csd.trk')\n",
    "bundle = Streamlines(bundle)\n",
    "bundle_moved = move_streamlines(bundle, np.eye(4), img2.affine)\n",
    "bundle_moved2 = move_streamlines(bundle, np.eye(4), img4.affine)"
   ]
  },
  {
   "cell_type": "code",
   "execution_count": 52,
   "metadata": {},
   "outputs": [],
   "source": [
    "# save_trk('I43/hemi/tracts/prova.trk',\n",
    "#          bundle_moved,\n",
    "#          img.affine,\n",
    "#          shape=img.shape[:3], vox_size=img.header.get_zooms()[:3])\n",
    "# save_trk('I43/hemi/tracts/prova2.trk',\n",
    "#          bundle_moved,\n",
    "#          img2.affine,\n",
    "#          shape=img2.shape[:3], vox_size=img2.header.get_zooms()[:3])\n",
    "# save_trk('I43/hemi/tracts/prova3.trk',\n",
    "#          bundle_moved,\n",
    "#          img3.affine,\n",
    "#          shape=img3.shape[:3], vox_size=img3.header.get_zooms()[:3])\n",
    "# save_trk('I43/hemi/tracts/prova4.trk',\n",
    "#          bundle_moved2,\n",
    "#          img4.affine,\n",
    "#          shape=img4.shape[:3], vox_size=img4.header.get_zooms()[:3])\n",
    "# save_trk('I43/hemi/tracts/prova5.trk',\n",
    "#          bundle_moved2,\n",
    "#          img3.affine,\n",
    "#          shape=img3.shape[:3], vox_size=img3.header.get_zooms()[:3])\n",
    "save_trk('I43/hemi/tracts/prova6.trk',\n",
    "         bundle_moved2,\n",
    "         img.affine,\n",
    "         shape=img.shape[:3], vox_size=img.header.get_zooms()[:3])\n",
    "\n"
   ]
  },
  {
   "cell_type": "code",
   "execution_count": 9,
   "metadata": {},
   "outputs": [],
   "source": [
    "from dipy.align.streamlinear import transform_streamlines\n",
    "transform_streamlines?\n"
   ]
  },
  {
   "cell_type": "code",
   "execution_count": 48,
   "metadata": {},
   "outputs": [],
   "source": [
    "mat=np.loadtxt('I43/hemi/fa2farot.mat')"
   ]
  },
  {
   "cell_type": "code",
   "execution_count": 53,
   "metadata": {},
   "outputs": [],
   "source": [
    "bundle_transformed= transform_streamlines(bundle_moved2, mat)"
   ]
  },
  {
   "cell_type": "code",
   "execution_count": 54,
   "metadata": {},
   "outputs": [],
   "source": [
    "save_trk('I43/hemi/tracts/prova7.trk',\n",
    "         bundle_transformed,\n",
    "         img3.affine,\n",
    "         shape=img3.shape[:3], vox_size=img3.header.get_zooms()[:3])"
   ]
  }
 ],
 "metadata": {
  "kernelspec": {
   "display_name": "Python 2",
   "language": "python",
   "name": "python2"
  },
  "language_info": {
   "codemirror_mode": {
    "name": "ipython",
    "version": 2
   },
   "file_extension": ".py",
   "mimetype": "text/x-python",
   "name": "python",
   "nbconvert_exporter": "python",
   "pygments_lexer": "ipython2",
   "version": "2.7.16"
  }
 },
 "nbformat": 4,
 "nbformat_minor": 2
}
